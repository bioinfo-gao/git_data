{
 "cells": [
  {
   "cell_type": "code",
   "execution_count": null,
   "id": "35cbff41-2a78-42d4-ab2d-7705803e54f7",
   "metadata": {},
   "outputs": [],
   "source": [
    "# https://stackoverflow.com/questions/38694081/executing-terminal-commands-in-jupyter-notebook\n",
    "\n",
    "%%bash\n",
    "head xyz.txt\n",
    "pip install keras\n",
    "git add model.h5.dvc data.dvc metrics.json\n",
    "git commit -m \"Second model, trained with 2000 images\""
   ]
  },
  {
   "cell_type": "code",
   "execution_count": 1,
   "id": "28a36d6f-3c3b-44f3-906f-f6893eac4a74",
   "metadata": {},
   "outputs": [
    {
     "name": "stderr",
     "output_type": "stream",
     "text": [
      "UsageError: Line magic function `%%bash` not found.\n"
     ]
    }
   ],
   "source": [
    "# https://stackoverflow.com/questions/38694081/executing-terminal-commands-in-jupyter-notebook\n",
    "%%bash\n",
    "ls"
   ]
  },
  {
   "cell_type": "code",
   "execution_count": 2,
   "id": "1ce53f6a-f818-4334-808a-5f22d9d29cdd",
   "metadata": {},
   "outputs": [
    {
     "name": "stdout",
     "output_type": "stream",
     "text": [
      "Microsoft Windows [Version 10.0.22631.4602]\n",
      "(c) Microsoft Corporation. All rights reserved.\n",
      "\n",
      "C:\\Users\\zhen-\\Documents\\Code\\Linux>where python\n",
      "C:\\Users\\zhen-\\Anaconda3\\python.exe\n",
      "C:\\Users\\zhen-\\AppData\\Local\\Microsoft\\WindowsApps\\python.exe\n",
      "\n",
      "C:\\Users\\zhen-\\Documents\\Code\\Linux>myprogram \"blabla\" -x -y -z\n"
     ]
    },
    {
     "name": "stderr",
     "output_type": "stream",
     "text": [
      "'myprogram' is not recognized as an internal or external command,\n",
      "operable program or batch file.\n"
     ]
    },
    {
     "name": "stdout",
     "output_type": "stream",
     "text": [
      "\n",
      "C:\\Users\\zhen-\\Documents\\Code\\Linux>"
     ]
    }
   ],
   "source": [
    "%%cmd\n",
    "where python\n",
    "myprogram \"blabla\" -x -y -z"
   ]
  },
  {
   "cell_type": "code",
   "execution_count": null,
   "id": "0ace5dd2-678f-4faf-aa16-ee685d424ef1",
   "metadata": {},
   "outputs": [],
   "source": [
    "# (1)Essentially you just run the notebook on the remote in no browser mode.\n",
    "jupyter notebook --no-browser --port=8080\n",
    "jupyter lab --no-browser --port=8080\n",
    "\n",
    "# (2)Then setup an ssh tunnel from the local machine:\n",
    "ssh -L 8080:localhost:8080 gao@192.168.1.189 # ssh -L 8080:localhost:8080 <REMOTE_USER>@<REMOTE_HOST>\n",
    "\n",
    "# (3) Then in your local browser go to: \n",
    "http://localhost:8080/\n"
   ]
  }
 ],
 "metadata": {
  "kernelspec": {
   "display_name": "Python 3 (ipykernel)",
   "language": "python",
   "name": "python3"
  },
  "language_info": {
   "codemirror_mode": {
    "name": "ipython",
    "version": 3
   },
   "file_extension": ".py",
   "mimetype": "text/x-python",
   "name": "python",
   "nbconvert_exporter": "python",
   "pygments_lexer": "ipython3",
   "version": "3.12.3"
  }
 },
 "nbformat": 4,
 "nbformat_minor": 5
}
