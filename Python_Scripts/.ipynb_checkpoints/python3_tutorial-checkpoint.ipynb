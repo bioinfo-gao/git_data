{
 "cells": [
  {
   "cell_type": "code",
   "execution_count": null,
   "id": "b80f09b5-0c64-4e99-a89e-11a1ab4083f8",
   "metadata": {
    "collapsed": true,
    "jupyter": {
     "outputs_hidden": true,
     "source_hidden": true
    }
   },
   "outputs": [],
   "source": [
    "\n",
    "#!/use/bin/python"
   ]
  },
  {
   "cell_type": "code",
   "execution_count": null,
   "id": "a086afe4-7bfa-44e3-bc23-872965701ab0",
   "metadata": {
    "collapsed": true,
    "jupyter": {
     "outputs_hidden": true,
     "source_hidden": true
    },
    "scrolled": true
   },
   "outputs": [],
   "source": [
    "# (base) PS C:\\\\Users\\\\zhen->   jupyter kernelspec list # list kernel\n",
    "# Available kernels:\n",
    "#   python3    C:\\\\Users\\\\zhen-\\\\Anaconda3\\\\share\\\\jupyter\\\\kernels\\\\python3"
   ]
  },
  {
   "cell_type": "code",
   "execution_count": null,
   "id": "eb716bd1-1147-4695-919d-61e2b82554e7",
   "metadata": {
    "collapsed": true,
    "jupyter": {
     "outputs_hidden": true,
     "source_hidden": true
    }
   },
   "outputs": [],
   "source": [
    "a, b = 5, 1\n",
    "if (a<b):\n",
    "    print(\"a({}) is NOT less than b({})\".format(a,b) )\n",
    "else :\n",
    "    print(\"a({}) is NOT less than b({})\".format(a,b))"
   ]
  },
  {
   "cell_type": "code",
   "execution_count": null,
   "id": "f100d6f4-b53c-4cf0-bf2f-d6a72ca7262a",
   "metadata": {
    "collapsed": true,
    "jupyter": {
     "outputs_hidden": true,
     "source_hidden": true
    },
    "panel-layout": {
     "height": 0,
     "visible": true,
     "width": 100
    }
   },
   "outputs": [],
   "source": [
    "a, b = 5, 1\n",
    "print(\"The value of a({}) is NOT less than b({})\".format(a,b) if a >=b else \"a({}) is NOT less than b({})\".format(a,b) )"
   ]
  },
  {
   "cell_type": "code",
   "execution_count": null,
   "id": "ff28fbac-8c48-4cb0-ad82-8e2838d4e7ee",
   "metadata": {
    "collapsed": true,
    "jupyter": {
     "outputs_hidden": true
    },
    "panel-layout": {
     "height": 0,
     "visible": true,
     "width": 100
    }
   },
   "outputs": [],
   "source": [
    "#!/usr/bin/python3\n",
    "\n",
    "# simple fibonacci series\n",
    "# the sum of two elements defines the next set\n",
    "a, b = 0, 1\n",
    "while b < 1000:\n",
    "    print(b)\n",
    "    a, b = b, a + b\n",
    "\n",
    "print(\"done\")"
   ]
  },
  {
   "cell_type": "code",
   "execution_count": null,
   "id": "31d005af-4bb5-40be-90de-2522080a9538",
   "metadata": {
    "collapsed": true,
    "jupyter": {
     "outputs_hidden": true
    },
    "scrolled": true
   },
   "outputs": [],
   "source": [
    "#!/usr/bin/python3\n",
    "\n",
    "# read the lines from the file\n",
    "fh = open('lines.txt')\n",
    "for line in fh.readlines():\n",
    "    print(line)\n"
   ]
  },
  {
   "cell_type": "code",
   "execution_count": null,
   "id": "687fc4f2-343e-4d7c-bbe4-8f73f983ff40",
   "metadata": {
    "collapsed": true,
    "editable": false,
    "jupyter": {
     "outputs_hidden": true,
     "source_hidden": true
    },
    "scrolled": true,
    "slideshow": {
     "slide_type": ""
    },
    "tags": []
   },
   "outputs": [],
   "source": [
    "#!/usr/bin/python3\n",
    "\n",
    "def isprime(n):\n",
    "    if n == 1:\n",
    "        print(\"1 is special\")\n",
    "        return False\n",
    "    for x in range(2, n):\n",
    "        if n % x == 0:\n",
    "            print(\"{} equals {} x {}\".format(n, x, n // x))\n",
    "            return False\n",
    "    else:\n",
    "        print(n, \"is a prime number\")\n",
    "        return True\n",
    "\n",
    "for n in range(1, 20):\n",
    "    isprime(n)"
   ]
  },
  {
   "cell_type": "code",
   "execution_count": null,
   "id": "40899ad5-d2ef-4426-b0c8-7d4a8a288f03",
   "metadata": {
    "collapsed": true,
    "jupyter": {
     "outputs_hidden": true,
     "source_hidden": true
    }
   },
   "outputs": [],
   "source": [
    "#!/usr/bin/python3\n",
    "\n",
    "def isprime(n):\n",
    "    if n == 1:\n",
    "        return False\n",
    "    for x in range(2, n):\n",
    "        if n % x == 0:\n",
    "            return False\n",
    "    else:\n",
    "        return True\n",
    "\n",
    "def primes(n = 1):\n",
    "   while(True):\n",
    "       if isprime(n): yield n\n",
    "       n += 1 \n",
    "\n",
    "for n in primes():\n",
    "    if n > 150: break\n",
    "    print(n, end=\"  \")\n",
    "\n"
   ]
  },
  {
   "cell_type": "code",
   "execution_count": null,
   "id": "9a2fdb0d-624b-4c85-82d0-0c197d367d68",
   "metadata": {
    "collapsed": true,
    "jupyter": {
     "outputs_hidden": true,
     "source_hidden": true
    }
   },
   "outputs": [],
   "source": [
    "#!/usr/bin/python3\n",
    "\n",
    "# simple fibonacci series\n",
    "# the sum of two elements defines the next set\n",
    "class Fibonacci():\n",
    "    def __init__(self, a, b):\n",
    "        self.a = a\n",
    "        self.b = b\n",
    "\n",
    "    def series(self):\n",
    "        while(True):\n",
    "            #yield(self.b)\n",
    "            yield(self.a) # produce results\n",
    "            self.a, self.b = self.b, self.a + self.b\n",
    "\n",
    "f = Fibonacci(2, 3) #f = Fibonacci(0, 1)\n",
    "for r in f.series():\n",
    "    print(r)\n",
    "    #print(f.a, f.b, end='::: ')\n",
    "    print(f.a, f.b)\n",
    "    if r > 100: break    \n",
    "    #print(r, end=' ')\n"
   ]
  },
  {
   "cell_type": "code",
   "execution_count": null,
   "id": "a5d3fcf1-7d28-4e96-af78-b8fcee5e4abb",
   "metadata": {
    "collapsed": true,
    "jupyter": {
     "outputs_hidden": true,
     "source_hidden": true
    },
    "panel-layout": {
     "height": 0,
     "visible": true,
     "width": 100
    }
   },
   "outputs": [],
   "source": [
    "#!/usr/bin/python3\n",
    "\n",
    "class AnimalActions:\n",
    "    def quack(self):    return self.strings['quack']\n",
    "    def feathers(self): return self.strings['feathers']\n",
    "    def bark(self): return self.strings['bark']\n",
    "    def fur(self): return self.strings['fur']\n",
    "\n",
    "class Duck(AnimalActions):\n",
    "    strings = dict(\n",
    "        quack = \"Quaaaaak!\",\n",
    "        feathers = \"The duck has gray and white feathers.\",\n",
    "        bark = \"The duck cannot bark.\",\n",
    "        fur = \"The duck has no fur.\"\n",
    "    )\n",
    " \n",
    "class Person(AnimalActions):\n",
    "    strings = dict(\n",
    "        quack = \"The person imitates a duck.\",\n",
    "        feathers = \"The person takes a feather from the ground and shows it.\",\n",
    "        bark = \"The person says woof!\",\n",
    "        fur = \"The person puts on a fur coat.\"\n",
    "    )\n",
    "\n",
    "class Dog(AnimalActions):\n",
    "    strings = dict(\n",
    "        quack = \"The dog cannot quack.\",\n",
    "        feathers = \"The dog has no feathers.\",\n",
    "        bark = \"Arf!\",\n",
    "        fur = \"The dog has white fur with black spots.\"\n",
    "    )\n",
    "\n",
    "def in_the_doghouse(AnimalActions):\n",
    "    print(AnimalActions.bark())\n",
    "    print(AnimalActions.fur())\n",
    "\n",
    "def in_the_forest(AnimalActions):\n",
    "    print(AnimalActions.quack())\n",
    "    print(AnimalActions.feathers())\n",
    " \n",
    "def main():\n",
    "    donald = Duck()\n",
    "    john = Person()\n",
    "    fido = Dog()\n",
    "\n",
    "    print(\"- In the forest:\")\n",
    "    for o in ( donald, john, fido ):\n",
    "        in_the_forest(o)\n",
    "\n",
    "    print(\"- In the doghouse:\")\n",
    "    for o in ( donald, john, fido ):\n",
    "        in_the_doghouse(o)\n",
    " \n",
    "main() # if __name__ == \"__main__\": main()\n"
   ]
  },
  {
   "cell_type": "markdown",
   "id": "e66f312b-9c7c-4031-9632-709e60ce2fb5",
   "metadata": {
    "panel-layout": {
     "height": 51.1354,
     "visible": true,
     "width": 100
    }
   },
   "source": [
    "this is markedown word chec "
   ]
  },
  {
   "cell_type": "code",
   "execution_count": null,
   "id": "5a583502-9994-459a-9611-276a727d523f",
   "metadata": {
    "collapsed": true,
    "jupyter": {
     "outputs_hidden": true
    },
    "scrolled": true
   },
   "outputs": [],
   "source": [
    "#!/usr/bin/python3\n",
    "# oop3.py by Bill Weinman <http://bw.org/contact/>\n",
    "# OOP/Polymorphism example in Python\n",
    "# This is an exercise file from Python 3 Essential Training on lynda.com\n",
    "# Copyright (c) 2010 The BearHeart Group, LLC\n",
    "\n",
    "# -- VIEW --\n",
    "class AnimalActions:\n",
    "    def __init__(self, def_name=None):\n",
    "        self.defined_name = def_name # 'str' object is not callable , remove brackt\n",
    "    \n",
    "    def animalType(self):\n",
    "        return  self.__class__.__name__.lower() \n",
    "               \n",
    "    def _doAction(self, action):\n",
    "        if action in self.strings:\n",
    "            return self.strings[action]\n",
    "        else:\n",
    "            return 'The {} is a {} has no {}'.format(self.defined_name, self.animalType(), action) # animalName / Type used HERE\n",
    "       \n",
    "    def bark(self):     return self._doAction('bark')\n",
    "    def fur(self):      return self._doAction('fur')\n",
    "    def quack(self):    return self._doAction('quack')\n",
    "    def feathers(self): return self._doAction('feathers')\n",
    "\n",
    "\n",
    "# -- MODEL -- \n",
    "class Person(AnimalActions):\n",
    "    strings = dict(\n",
    "        bark     = \"The person says woof!\",\n",
    "        fur      = \"The person puts on a fur coat.\",\n",
    "        quack    = \"The person imitates a duck.\",\n",
    "        feathers = \"The person takes a feather from the ground and shows it.\"    )\n",
    "\n",
    "class Duck(AnimalActions):\n",
    "    strings = dict(\n",
    "        quack    = \"Quaaaaak!\",\n",
    "        feathers = \"The duck has gray and white feathers.\"    )\n",
    "class Dog(AnimalActions):\n",
    "    strings = dict(\n",
    "        bark     = \"Arf!\",\n",
    "        fur      = \"The dog has white fur with black spots.\"    )\n",
    "\n",
    "# -- CONTROLLER -- \n",
    "def in_the_forest(duck):\n",
    "    print(duck.quack())\n",
    "    print(duck.feathers())\n",
    " \n",
    "def in_the_doghouse(dog):\n",
    "    print(dog.bark())\n",
    "    print(dog.fur())\n",
    "\n",
    "def main():\n",
    "    donald = Duck(def_name=\"Donald\")\n",
    "    john   = Person(def_name=\"John\")\n",
    "    fido   = Dog(def_name=\"Fido\")\n",
    "    print(\"-- In the forest:\")\n",
    "    for o in ( donald, john, fido ):\n",
    "        in_the_forest(o)\n",
    "    print(\"-- In the doghouse:\")\n",
    "    for o in ( donald, john, fido ):\n",
    "        in_the_doghouse(o)\n",
    " \n",
    "if __name__ == \"__main__\": main() # this one RUNS well in jupyter "
   ]
  },
  {
   "cell_type": "code",
   "execution_count": null,
   "id": "ee9fffba-0966-49ef-8b83-c93a44eb7c35",
   "metadata": {
    "collapsed": true,
    "jupyter": {
     "outputs_hidden": true,
     "source_hidden": true
    },
    "scrolled": true
   },
   "outputs": [],
   "source": [
    "#!/usr/bin/python3\n",
    "# exceptions.py by Bill Weinman [http://bw.org/]\n",
    "# This is an exercise file from Python 3 Essential Training on lynda.com\n",
    "# Copyright 2010 The BearHeart Gorup, LLC\n",
    "\n",
    "try: \n",
    "    #fh = open('xlines.txt') \n",
    "    fh = open('lines.txt') \n",
    "    for line in fh.readlines():\n",
    "        #print(line)\n",
    "        print(line, end='') # print(value, ..., sep=' ', end='\\\\n', file=sys.stdout, flush=False)\n",
    "\n",
    "except IOError as e:\n",
    "    print(\" Eror happended as {}\".format(e))\n"
   ]
  },
  {
   "cell_type": "code",
   "execution_count": null,
   "id": "b1501662-c87a-4544-894d-423818afc807",
   "metadata": {
    "collapsed": true,
    "jupyter": {
     "outputs_hidden": true,
     "source_hidden": true
    }
   },
   "outputs": [],
   "source": [
    "x=42\n",
    "id(x)"
   ]
  },
  {
   "cell_type": "code",
   "execution_count": null,
   "id": "eb8bb0b7-9353-4d46-b278-b775e4b0d680",
   "metadata": {
    "collapsed": true,
    "jupyter": {
     "outputs_hidden": true,
     "source_hidden": true
    }
   },
   "outputs": [],
   "source": [
    "type(x)"
   ]
  },
  {
   "cell_type": "code",
   "execution_count": null,
   "id": "a06232ca-dd63-458a-98fe-153195656222",
   "metadata": {
    "collapsed": true,
    "jupyter": {
     "outputs_hidden": true,
     "source_hidden": true
    }
   },
   "outputs": [],
   "source": [
    "print(x)"
   ]
  },
  {
   "cell_type": "code",
   "execution_count": null,
   "id": "ad396b8f-1207-4760-a409-a5126724b435",
   "metadata": {
    "collapsed": true,
    "jupyter": {
     "outputs_hidden": true,
     "source_hidden": true
    }
   },
   "outputs": [],
   "source": [
    "x.as_integer_ratio()"
   ]
  },
  {
   "cell_type": "code",
   "execution_count": null,
   "id": "e0b3d285-4dc0-4bea-9d31-9074fd41c84e",
   "metadata": {
    "collapsed": true,
    "jupyter": {
     "outputs_hidden": true,
     "source_hidden": true
    }
   },
   "outputs": [],
   "source": [
    "x=43\n",
    "id(x)"
   ]
  },
  {
   "cell_type": "code",
   "execution_count": null,
   "id": "527ccdc4-afe1-4646-a7f5-f1403030765f",
   "metadata": {
    "collapsed": true,
    "jupyter": {
     "outputs_hidden": true,
     "source_hidden": true
    }
   },
   "outputs": [],
   "source": [
    "x=42\n",
    "id(x)"
   ]
  },
  {
   "cell_type": "code",
   "execution_count": null,
   "id": "b7f25f7d-217c-4570-bc11-618c5eecfaaa",
   "metadata": {
    "collapsed": true,
    "jupyter": {
     "outputs_hidden": true,
     "source_hidden": true
    }
   },
   "outputs": [],
   "source": [
    "y=48.0\n",
    "type(y)"
   ]
  },
  {
   "cell_type": "code",
   "execution_count": null,
   "id": "510b2375-714b-4cf1-bc84-d9f3c830bfa0",
   "metadata": {
    "collapsed": true,
    "jupyter": {
     "outputs_hidden": true,
     "source_hidden": true
    }
   },
   "outputs": [],
   "source": [
    "y=48.0+0j\n",
    "type(y)"
   ]
  },
  {
   "cell_type": "code",
   "execution_count": null,
   "id": "669c2775-a19a-4f32-8e22-2d60cbf90dba",
   "metadata": {
    "collapsed": true,
    "jupyter": {
     "outputs_hidden": true,
     "source_hidden": true
    }
   },
   "outputs": [],
   "source": [
    "n=42\n",
    "s=\"python2 format for number string %s\" %n\n",
    "print(s)"
   ]
  },
  {
   "cell_type": "code",
   "execution_count": null,
   "id": "b18bf5ed-cf27-4e89-a89c-61fb60d5a58d",
   "metadata": {
    "collapsed": true,
    "jupyter": {
     "outputs_hidden": true,
     "source_hidden": true
    }
   },
   "outputs": [],
   "source": [
    "n=42\n",
    "s=\"python3 format for number string {}\".format(n)\n",
    "print(s)"
   ]
  },
  {
   "cell_type": "code",
   "execution_count": null,
   "id": "f7743772-d315-480d-8cc2-165aa7305aa9",
   "metadata": {
    "collapsed": true,
    "jupyter": {
     "outputs_hidden": true,
     "source_hidden": true
    }
   },
   "outputs": [],
   "source": [
    "n=42\n",
    "s='python3 format for number string {} in single quote'.format(n)\n",
    "print(s)"
   ]
  },
  {
   "cell_type": "markdown",
   "id": "8ef57cf7-2a8a-4e55-8236-db0413750cb1",
   "metadata": {},
   "source": [
    "The following is from https://ipython.readthedocs.io/en/stable/interactive/magics.html#magic-run"
   ]
  },
  {
   "cell_type": "code",
   "execution_count": null,
   "id": "711e9e0d-5691-4f15-8c7b-62b1c1db77f5",
   "metadata": {
    "collapsed": true,
    "jupyter": {
     "outputs_hidden": true,
     "source_hidden": true
    }
   },
   "outputs": [],
   "source": [
    "pwd # still work !!!!!!!!!!!!!!!!"
   ]
  },
  {
   "cell_type": "code",
   "execution_count": null,
   "id": "544b3bb1-3d9d-48ab-9100-624e1181cdbf",
   "metadata": {
    "collapsed": true,
    "jupyter": {
     "outputs_hidden": true,
     "source_hidden": true
    }
   },
   "outputs": [],
   "source": [
    "ls"
   ]
  },
  {
   "cell_type": "code",
   "execution_count": null,
   "id": "28565e9c-4e64-4159-a40a-fe2bf1c68505",
   "metadata": {
    "collapsed": true,
    "jupyter": {
     "outputs_hidden": true,
     "source_hidden": true
    }
   },
   "outputs": [],
   "source": [
    "%env"
   ]
  },
  {
   "cell_type": "code",
   "execution_count": null,
   "id": "dd0f565c-e9fe-4687-9515-db181078d4f0",
   "metadata": {
    "collapsed": true,
    "jupyter": {
     "outputs_hidden": true,
     "source_hidden": true
    }
   },
   "outputs": [],
   "source": [
    "%%writefile python3_file_created_from_jupyter_outer_parameter.py\n",
    "listJ\n",
    "for i in listJ:\n",
    "    print(i)"
   ]
  },
  {
   "cell_type": "code",
   "execution_count": null,
   "id": "3ecb8a54-ebff-47ba-a34b-a4834488140f",
   "metadata": {
    "collapsed": true,
    "jupyter": {
     "outputs_hidden": true,
     "source_hidden": true
    }
   },
   "outputs": [],
   "source": [
    "# %load python3_file_created_from_jupyter.py\n",
    "list=[10, 20, 30, 40,50]\n",
    "for i in list:\n",
    "    print(i)\n"
   ]
  },
  {
   "cell_type": "code",
   "execution_count": null,
   "id": "ce8a133f-8de7-4759-bad1-c9b4bb41bb3c",
   "metadata": {
    "collapsed": true,
    "jupyter": {
     "outputs_hidden": true,
     "source_hidden": true
    }
   },
   "outputs": [],
   "source": [
    "%run python3_file_created_from_jupyter.py"
   ]
  },
  {
   "cell_type": "code",
   "execution_count": null,
   "id": "edb1985e-f58e-476e-98e9-4b461a1fe5e1",
   "metadata": {
    "collapsed": true,
    "jupyter": {
     "outputs_hidden": true,
     "source_hidden": true
    }
   },
   "outputs": [],
   "source": [
    "listJ=['apple', 'orange', 'benana', 'pearl']\n",
    "%run -i python3_file_created_from_jupyter_outer_parameter.py"
   ]
  },
  {
   "cell_type": "code",
   "execution_count": null,
   "id": "e24326e5-63af-468b-a989-1bb08eb2c0ed",
   "metadata": {
    "collapsed": true,
    "jupyter": {
     "outputs_hidden": true,
     "source_hidden": true
    }
   },
   "outputs": [],
   "source": [
    "%history"
   ]
  },
  {
   "cell_type": "code",
   "execution_count": null,
   "id": "0ca5e002-ee44-4057-944e-4bf52f4244cf",
   "metadata": {
    "collapsed": true,
    "jupyter": {
     "outputs_hidden": true,
     "source_hidden": true
    }
   },
   "outputs": [],
   "source": [
    "%save save_history.py %history 2-4"
   ]
  },
  {
   "cell_type": "code",
   "execution_count": null,
   "id": "a63bc22c-55a7-4579-925f-8d9f5e0bda1d",
   "metadata": {
    "collapsed": true,
    "jupyter": {
     "outputs_hidden": true,
     "source_hidden": true
    }
   },
   "outputs": [],
   "source": [
    "ls"
   ]
  },
  {
   "cell_type": "code",
   "execution_count": null,
   "id": "af4c0c27-a13e-4876-9226-1a3dc1d5f9c4",
   "metadata": {
    "collapsed": true,
    "jupyter": {
     "outputs_hidden": true,
     "source_hidden": true
    }
   },
   "outputs": [],
   "source": [
    "%env"
   ]
  },
  {
   "cell_type": "code",
   "execution_count": null,
   "id": "95670419-50fa-4e9b-b3d7-0521be24f281",
   "metadata": {
    "collapsed": true,
    "jupyter": {
     "outputs_hidden": true,
     "source_hidden": true
    }
   },
   "outputs": [],
   "source": [
    "%whos"
   ]
  },
  {
   "cell_type": "code",
   "execution_count": null,
   "id": "db9f064a-3ef7-4d47-9813-609a587e6d4d",
   "metadata": {
    "collapsed": true,
    "jupyter": {
     "outputs_hidden": true,
     "source_hidden": true
    }
   },
   "outputs": [],
   "source": [
    "m=42\n",
    "m==n"
   ]
  },
  {
   "cell_type": "code",
   "execution_count": null,
   "id": "72662dc5-78b5-48bf-baab-e243d0d92786",
   "metadata": {
    "collapsed": true,
    "jupyter": {
     "outputs_hidden": true,
     "source_hidden": true
    }
   },
   "outputs": [],
   "source": [
    "m is n"
   ]
  },
  {
   "cell_type": "code",
   "execution_count": null,
   "id": "66da741d-b2ef-4cdd-ae99-f42e061bd38d",
   "metadata": {
    "collapsed": true,
    "jupyter": {
     "outputs_hidden": true,
     "source_hidden": true
    }
   },
   "outputs": [],
   "source": [
    "id(m)"
   ]
  },
  {
   "cell_type": "code",
   "execution_count": null,
   "id": "66cf04e6-7893-4d38-bf84-4244c0c1fb45",
   "metadata": {
    "collapsed": true,
    "jupyter": {
     "outputs_hidden": true,
     "source_hidden": true
    }
   },
   "outputs": [],
   "source": [
    "id(n)"
   ]
  },
  {
   "cell_type": "code",
   "execution_count": null,
   "id": "40cd1f4b-771a-4c8b-b0e1-22708c1c5216",
   "metadata": {
    "collapsed": true,
    "jupyter": {
     "outputs_hidden": true,
     "source_hidden": true
    }
   },
   "outputs": [],
   "source": [
    "n=dict(n=42)"
   ]
  },
  {
   "cell_type": "code",
   "execution_count": null,
   "id": "b4ed22bb-605b-4fa6-9645-4a045d6f7923",
   "metadata": {
    "collapsed": true,
    "jupyter": {
     "outputs_hidden": true,
     "source_hidden": true
    }
   },
   "outputs": [],
   "source": [
    "m=dict(n=42)"
   ]
  },
  {
   "cell_type": "code",
   "execution_count": null,
   "id": "0c69cd67-612c-4307-b744-beff01ebe2df",
   "metadata": {
    "collapsed": true,
    "jupyter": {
     "outputs_hidden": true,
     "source_hidden": true
    }
   },
   "outputs": [],
   "source": [
    "type(n)"
   ]
  },
  {
   "cell_type": "code",
   "execution_count": null,
   "id": "3af534eb-1fb6-4e98-b721-90c82b42db97",
   "metadata": {
    "collapsed": true,
    "jupyter": {
     "outputs_hidden": true,
     "source_hidden": true
    }
   },
   "outputs": [],
   "source": [
    "type(m)"
   ]
  },
  {
   "cell_type": "code",
   "execution_count": null,
   "id": "1ac50ad3-9089-41ec-aef3-e870f2d6ce8c",
   "metadata": {
    "collapsed": true,
    "jupyter": {
     "outputs_hidden": true,
     "source_hidden": true
    }
   },
   "outputs": [],
   "source": [
    "n==m"
   ]
  },
  {
   "cell_type": "code",
   "execution_count": null,
   "id": "e697fa2c-90e9-4691-9d43-78c919ee8581",
   "metadata": {
    "collapsed": true,
    "jupyter": {
     "outputs_hidden": true,
     "source_hidden": true
    }
   },
   "outputs": [],
   "source": [
    "n is m"
   ]
  },
  {
   "cell_type": "code",
   "execution_count": null,
   "id": "b66d7370-84b0-4c67-9d98-29e2f970f8b7",
   "metadata": {
    "collapsed": true,
    "jupyter": {
     "outputs_hidden": true,
     "source_hidden": true
    }
   },
   "outputs": [],
   "source": [
    "n"
   ]
  },
  {
   "cell_type": "code",
   "execution_count": null,
   "id": "129e1f79-ba41-4a22-98b0-c243dc55cae4",
   "metadata": {
    "collapsed": true,
    "jupyter": {
     "outputs_hidden": true,
     "source_hidden": true
    },
    "scrolled": true
   },
   "outputs": [],
   "source": [
    "dir()"
   ]
  },
  {
   "cell_type": "code",
   "execution_count": null,
   "id": "4236eaa4-5022-4c72-8ee7-7bfd4afaf122",
   "metadata": {
    "collapsed": true,
    "jupyter": {
     "outputs_hidden": true,
     "source_hidden": true
    }
   },
   "outputs": [],
   "source": [
    "locals()"
   ]
  },
  {
   "cell_type": "code",
   "execution_count": null,
   "id": "471be8ea-ddc8-4210-a542-29185da030dc",
   "metadata": {
    "collapsed": true,
    "jupyter": {
     "outputs_hidden": true,
     "source_hidden": true
    },
    "scrolled": true
   },
   "outputs": [],
   "source": [
    "globals()"
   ]
  },
  {
   "cell_type": "code",
   "execution_count": null,
   "id": "f712ebc1-f680-4aa6-a40e-19e2187dc831",
   "metadata": {
    "collapsed": true,
    "jupyter": {
     "outputs_hidden": true,
     "source_hidden": true
    }
   },
   "outputs": [],
   "source": [
    "%whos"
   ]
  },
  {
   "cell_type": "code",
   "execution_count": null,
   "id": "08c48974-c836-476b-b0de-b0e30ddecc09",
   "metadata": {
    "collapsed": true,
    "jupyter": {
     "outputs_hidden": true,
     "source_hidden": true
    }
   },
   "outputs": [],
   "source": [
    "if x!=y:\n",
    "    print(\"not equal\")"
   ]
  },
  {
   "cell_type": "code",
   "execution_count": null,
   "id": "45ff2f80-3bfb-4cba-97cf-f6f2d662a91c",
   "metadata": {
    "collapsed": true,
    "jupyter": {
     "outputs_hidden": true,
     "source_hidden": true
    }
   },
   "outputs": [],
   "source": [
    "vars()"
   ]
  },
  {
   "cell_type": "code",
   "execution_count": null,
   "id": "ded992b7-dff1-423a-a24b-989d0f0875ad",
   "metadata": {
    "collapsed": true,
    "jupyter": {
     "outputs_hidden": true,
     "source_hidden": true
    }
   },
   "outputs": [],
   "source": []
  },
  {
   "cell_type": "code",
   "execution_count": null,
   "id": "a13f7aaf-3688-45d0-8524-e74d90fd7f73",
   "metadata": {
    "collapsed": true,
    "jupyter": {
     "outputs_hidden": true,
     "source_hidden": true
    }
   },
   "outputs": [],
   "source": [
    "s=\"This is a sample string\"\n",
    "for  i , c in enumerate(s):\n",
    "#for i in s:\n",
    "    print (i, c)"
   ]
  },
  {
   "cell_type": "code",
   "execution_count": null,
   "id": "4d2486b5-5a30-42ab-b862-a3f8e1cf0ef5",
   "metadata": {
    "collapsed": true,
    "jupyter": {
     "outputs_hidden": true,
     "source_hidden": true
    }
   },
   "outputs": [],
   "source": [
    "s=\"This is a sample string\"\n",
    "for  i , c in enumerate(s):\n",
    "    if c == \"s\":\n",
    "        print (i, c)"
   ]
  },
  {
   "cell_type": "code",
   "execution_count": null,
   "id": "f85b73e6-27de-4a05-9791-ba18b29ca705",
   "metadata": {
    "collapsed": true,
    "jupyter": {
     "outputs_hidden": true,
     "source_hidden": true
    }
   },
   "outputs": [],
   "source": [
    "s=\"This is a sample string\"\n",
    "for  i , c in enumerate(s):\n",
    "    print (i, c)\n",
    "else:\n",
    "    print(\"The else string in for else struture\")"
   ]
  },
  {
   "cell_type": "code",
   "execution_count": null,
   "id": "2956d560-2a91-42e1-90ac-cba7eaecf67c",
   "metadata": {
    "collapsed": true,
    "jupyter": {
     "outputs_hidden": true,
     "source_hidden": true
    }
   },
   "outputs": [],
   "source": [
    "s=\"This is a sample string\"\n",
    "i=0\n",
    "while i < len(s):\n",
    "    print (s[i], end=\" \")\n",
    "    i +=1 # this is Crital tr avoid dead loop\n",
    "else:\n",
    "    print(\"The else string in for else struture\")"
   ]
  },
  {
   "cell_type": "code",
   "execution_count": null,
   "id": "3cd3e2c3-455b-44f2-ae2e-0289c33bcf1f",
   "metadata": {
    "collapsed": true,
    "jupyter": {
     "outputs_hidden": true,
     "source_hidden": true
    }
   },
   "outputs": [],
   "source": [
    "s=\"This is a sample string\"\n",
    "for  i , c in enumerate(s):\n",
    "    if c == \"s\": continue\n",
    "    print (c, end=\" \")"
   ]
  },
  {
   "cell_type": "code",
   "execution_count": null,
   "id": "7dcec546-bdca-430a-b972-c47b5f8790ba",
   "metadata": {
    "collapsed": true,
    "jupyter": {
     "outputs_hidden": true,
     "source_hidden": true
    }
   },
   "outputs": [],
   "source": [
    "5/5"
   ]
  },
  {
   "cell_type": "code",
   "execution_count": null,
   "id": "8caf4945-262c-43e6-93c2-e31015f76d78",
   "metadata": {
    "collapsed": true,
    "jupyter": {
     "outputs_hidden": true,
     "source_hidden": true
    }
   },
   "outputs": [],
   "source": [
    "i"
   ]
  },
  {
   "cell_type": "code",
   "execution_count": null,
   "id": "2742065a-39ab-4949-b3ab-91d662353be6",
   "metadata": {
    "collapsed": true,
    "jupyter": {
     "outputs_hidden": true,
     "source_hidden": true
    }
   },
   "outputs": [],
   "source": [
    "i +=1"
   ]
  },
  {
   "cell_type": "code",
   "execution_count": null,
   "id": "b576cce3-6d6f-44b9-85cc-6b66d4b42d19",
   "metadata": {
    "collapsed": true,
    "jupyter": {
     "outputs_hidden": true,
     "source_hidden": true
    }
   },
   "outputs": [],
   "source": [
    "i"
   ]
  },
  {
   "cell_type": "code",
   "execution_count": null,
   "id": "f07d8099-9017-4b58-b3bb-39e0c09acd2d",
   "metadata": {
    "collapsed": true,
    "jupyter": {
     "outputs_hidden": true,
     "source_hidden": true
    }
   },
   "outputs": [],
   "source": [
    "i /=1"
   ]
  },
  {
   "cell_type": "code",
   "execution_count": null,
   "id": "2259cd90-d01d-46a7-bbdd-ccffd7eb677d",
   "metadata": {
    "collapsed": true,
    "jupyter": {
     "outputs_hidden": true,
     "source_hidden": true
    }
   },
   "outputs": [],
   "source": [
    "i"
   ]
  },
  {
   "cell_type": "code",
   "execution_count": null,
   "id": "3f6a7457-7b22-4c9e-be7f-cf4508b4d5cd",
   "metadata": {
    "collapsed": true,
    "jupyter": {
     "outputs_hidden": true,
     "source_hidden": true
    }
   },
   "outputs": [],
   "source": [
    "def b(n):print(\"{:08b}\".format(2))"
   ]
  },
  {
   "cell_type": "code",
   "execution_count": null,
   "id": "d0dc0d1a-d8a4-41a1-8635-91df32c19cdc",
   "metadata": {
    "collapsed": true,
    "jupyter": {
     "outputs_hidden": true,
     "source_hidden": true
    }
   },
   "outputs": [],
   "source": [
    "x, y = 0x55, 0xAA\n",
    "b(x^y)"
   ]
  },
  {
   "cell_type": "code",
   "execution_count": null,
   "id": "0f34a476-48d7-4168-9b6d-2319f5ed8a55",
   "metadata": {
    "collapsed": true,
    "jupyter": {
     "outputs_hidden": true,
     "source_hidden": true
    }
   },
   "outputs": [],
   "source": [
    "print(x, y )"
   ]
  },
  {
   "cell_type": "code",
   "execution_count": null,
   "id": "75ca3685-d434-4c2d-8d47-b1e1b1033170",
   "metadata": {
    "collapsed": true,
    "jupyter": {
     "outputs_hidden": true,
     "source_hidden": true
    }
   },
   "outputs": [],
   "source": [
    "%whos"
   ]
  },
  {
   "cell_type": "code",
   "execution_count": null,
   "id": "545a2e78-2e57-4dec-a650-cdf4721ff6d3",
   "metadata": {
    "collapsed": true,
    "jupyter": {
     "outputs_hidden": true,
     "source_hidden": true
    }
   },
   "outputs": [],
   "source": [
    "a, b = \"string1\", 'string2'\n",
    "if a<b and x<y:\n",
    "    print(\"yes\")\n",
    "else:    \n",
    "    print(\"No\")"
   ]
  },
  {
   "cell_type": "code",
   "execution_count": null,
   "id": "fb8c6af6-ce6e-4720-b0da-3e97f9d8093a",
   "metadata": {
    "collapsed": true,
    "jupyter": {
     "outputs_hidden": true,
     "source_hidden": true
    }
   },
   "outputs": [],
   "source": [
    "a, b = \"string1\", 'string2'\n",
    "if a<b || x<y:\n",
    "    print(\"yes\")\n",
    "else:    \n",
    "    print(\"No\")"
   ]
  },
  {
   "cell_type": "code",
   "execution_count": null,
   "id": "591ec6d4-ffdf-4889-97e7-4a559f70b6ab",
   "metadata": {
    "collapsed": true,
    "jupyter": {
     "outputs_hidden": true,
     "source_hidden": true
    }
   },
   "outputs": [],
   "source": [
    "#! C:\\\\Users\\\\zhen-\\\\Anaconda3\\\\share\\\\jupyter\\\\kernels\\\\ir\n",
    "a = \"string1\" \n",
    "b = \"string2\"\n",
    "x = 15\n",
    "y = 32\n",
    "\n",
    "#if( a < b | x<y ){  this is some intriguing contents https://stackoverflow.com/questions/6558921/difference-between-boolean-operators-and-and-between-and-in-r\n",
    "if( a < b || x<y ){ \n",
    "    print(\"yes Yes\")\n",
    "} else {    \n",
    "    print(\"No\")\n",
    "}"
   ]
  },
  {
   "cell_type": "code",
   "execution_count": null,
   "id": "dd65bea0-d0ce-4358-a502-5c3fb73d9284",
   "metadata": {
    "collapsed": true,
    "jupyter": {
     "outputs_hidden": true,
     "source_hidden": true
    }
   },
   "outputs": [],
   "source": [
    "x=2\n",
    "print(x)"
   ]
  },
  {
   "cell_type": "code",
   "execution_count": null,
   "id": "1ff6bac3-79e5-4851-aaaa-46909ed8a468",
   "metadata": {
    "collapsed": true,
    "jupyter": {
     "outputs_hidden": true,
     "source_hidden": true
    }
   },
   "outputs": [],
   "source": [
    "pwd"
   ]
  },
  {
   "cell_type": "code",
   "execution_count": null,
   "id": "566cf01e-cf06-4246-8853-df686a73ca4f",
   "metadata": {
    "collapsed": true,
    "jupyter": {
     "outputs_hidden": true,
     "source_hidden": true
    }
   },
   "outputs": [],
   "source": [
    "# %load C:\\Users\\zhen-\\Documents\\Python_Scripts\\Lynnda_Exercise_Files\\09 Regexes\\regex.py\n",
    "import re\n",
    "def main():\n",
    "    fh = open(\"C:/Users/zhen-/Documents/Python_Scripts/Lynnda_Exercise_Files/09 Regexes/raven.txt\") # with or with r is ok r\"C:/\n",
    "    #fh = open(r\"./Lynnda_Exercise_Files/09 Regexes/raven.txt\") #pwd\n",
    "    for line in fh:\n",
    "        if re.search('(Len|Neverm)ore', line):\n",
    "            print(line, end='')\n",
    "if __name__ == \"__main__\": main()\n"
   ]
  },
  {
   "cell_type": "code",
   "execution_count": null,
   "id": "2ea9390b-5101-4389-bdbc-b1aae760544a",
   "metadata": {
    "collapsed": true,
    "jupyter": {
     "outputs_hidden": true,
     "source_hidden": true
    }
   },
   "outputs": [],
   "source": [
    "9**2 # python "
   ]
  },
  {
   "cell_type": "code",
   "execution_count": null,
   "id": "ad6d94cc-8462-4ae1-9148-dba4e8030e25",
   "metadata": {
    "collapsed": true,
    "jupyter": {
     "outputs_hidden": true,
     "source_hidden": true
    }
   },
   "outputs": [],
   "source": [
    "9^2 # exclusive or "
   ]
  },
  {
   "cell_type": "code",
   "execution_count": null,
   "id": "abe83c79-c6ab-4a08-a138-3184cd035667",
   "metadata": {
    "collapsed": true,
    "jupyter": {
     "outputs_hidden": true,
     "source_hidden": true
    }
   },
   "outputs": [],
   "source": [
    "9^2 # power in R language"
   ]
  },
  {
   "cell_type": "code",
   "execution_count": null,
   "id": "9491bac8-2733-487d-9e12-a6baf08e6ecc",
   "metadata": {
    "collapsed": true,
    "jupyter": {
     "outputs_hidden": true,
     "source_hidden": true
    }
   },
   "outputs": [],
   "source": [
    "# %load C:\\Users\\zhen-\\Documents\\Python_Scripts\\Lynnda_Exercise_Files\\09 Regexes\\regex.py"
   ]
  },
  {
   "cell_type": "code",
   "execution_count": null,
   "id": "24cc8d5e-462f-461b-b872-a65f3ed595c4",
   "metadata": {
    "collapsed": true,
    "jupyter": {
     "outputs_hidden": true,
     "source_hidden": true
    },
    "scrolled": true
   },
   "outputs": [],
   "source": [
    "# %load C:\\Users\\zhen-\\Documents\\Python_Scripts\\Lynnda_Exercise_Files\\09 Regexes\\regex.py\n",
    "\n",
    "import re\n",
    "\n",
    "def main():\n",
    "    # fh = open(r\"./Lynnda_Exercise_Files/09 Regexes/raven.txt\") \n",
    "    # for line in fh:\n",
    "    #     print(re.sub('(Len|Neverm)ore', \"###\",line))\n",
    "\n",
    "    fh = open(r\"./Lynnda_Exercise_Files/09 Regexes/raven.txt\") \n",
    "    for line in fh:\n",
    "        match = re.search('(Len|Neverm)ore', line)\n",
    "        if match:\n",
    "            print(line.replace(match.group(), \"###\"), end=\"\" )\n",
    "            \n",
    "\n",
    "if __name__ == \"__main__\": main()\n"
   ]
  },
  {
   "cell_type": "code",
   "execution_count": null,
   "id": "8120dc81-ac07-40d7-ba84-8f0aa070a347",
   "metadata": {
    "collapsed": true,
    "jupyter": {
     "outputs_hidden": true,
     "source_hidden": true
    },
    "scrolled": true
   },
   "outputs": [],
   "source": [
    "# %load C:\\Users\\zhen-\\Documents\\Python_Scripts\\Lynnda_Exercise_Files\\09 Regexes\\regex.py\n",
    "import re\n",
    "\n",
    "def main():\n",
    "    fh = open(r\"./Lynnda_Exercise_Files/09 Regexes/raven.txt\") \n",
    "    pattern= re.compile('(Len|Neverm)ore', re.I) \n",
    "    for line in fh:\n",
    "        if re.search('(Len|Neverm)ore', line):\n",
    "            #print(line, end=\"\" )\n",
    "            print(pattern.sub(\"#####\",line), end=\"\" )\n",
    "if __name__ == \"__main__\": main()\n"
   ]
  },
  {
   "cell_type": "code",
   "execution_count": null,
   "id": "7dc93918-83b2-43fe-9a14-205afebf739b",
   "metadata": {
    "collapsed": true,
    "jupyter": {
     "outputs_hidden": true
    }
   },
   "outputs": [],
   "source": [
    "# %load C:\\Users\\zhen-\\Documents\\Python_Scripts\\Lynnda_Exercise_Files\\10 Exceptions\\try_except_else.py\n",
    "def divide(x, y): \n",
    "    try: \n",
    "        # Floor Division : Gives only Fractional\n",
    "        # Part as Answer \n",
    "        result = x // y \n",
    "    except ZeroDivisionError: \n",
    "        print(\"Sorry ! You are dividing by zero \") \n",
    "    else:\n",
    "        print(\"Yeah ! Your answer is :\", result) \n",
    "   \n",
    "# Look at parameters and note the working of Program \n",
    "divide(3, 2) \n",
    "divide(3, 0)\n"
   ]
  },
  {
   "cell_type": "code",
   "execution_count": null,
   "id": "93f11406-ed6b-49d5-9393-e1b2f80d08ff",
   "metadata": {
    "collapsed": true,
    "jupyter": {
     "outputs_hidden": true
    }
   },
   "outputs": [],
   "source": [
    "# %load C:\\Users\\zhen-\\Documents\\Python_Scripts\\Lynnda_Exercise_Files\\10 Exceptions\\exceptions.py\n",
    "#!/usr/bin/python3\n",
    "# exceptions.py by Bill Weinman [http://bw.org/]\n",
    "# This is an exercise file from Python 3 Essential Training on lynda.com\n",
    "# Copyright 2010 The BearHeart Gorup, LLC\n",
    "\n",
    "def main():\n",
    "    try:\n",
    "        fh = open('xlines.txtc')\n",
    "    except ZeroDivisionError as e:      \n",
    "        print(\"could not OPEN as :\", e )\n",
    "    except IOError as e:\n",
    "        print(\"could not OPEN as ====:\", e )\n",
    "    except:\n",
    "        print(\"could not OPEN for unkown reason\" )\n",
    "    #for line in fh: print(line.strip())\n",
    "\n",
    "if __name__ == \"__main__\": main()\n"
   ]
  },
  {
   "cell_type": "code",
   "execution_count": null,
   "id": "1298af0c-c16d-40dd-a10c-c3b02070bd2f",
   "metadata": {
    "collapsed": true,
    "jupyter": {
     "outputs_hidden": true,
     "source_hidden": true
    }
   },
   "outputs": [],
   "source": []
  },
  {
   "cell_type": "code",
   "execution_count": null,
   "id": "89cc0257-8e1a-4273-beee-13c767ba37dc",
   "metadata": {
    "collapsed": true,
    "jupyter": {
     "outputs_hidden": true
    }
   },
   "outputs": [],
   "source": [
    "# %load C:\\Users\\zhen-\\Documents\\Python_Scripts\\Lynnda_Exercise_Files\\11 Functions\\generator.py"
   ]
  },
  {
   "cell_type": "code",
   "execution_count": null,
   "id": "c57464e7-ca57-4acd-ab2f-3ebf274b0bb4",
   "metadata": {
    "collapsed": true,
    "jupyter": {
     "outputs_hidden": true
    }
   },
   "outputs": [],
   "source": [
    "#!/usr/bin/python3\n",
    "# generator.py by Bill Weinman [http://bw.org/]\n",
    "# This is an exercise file from Python 3 Essential Training on lynda.com\n",
    "# Copyright 2010 The BearHeart Group, LLC\n",
    "\n",
    "def main():\n",
    "    print(\"This is the functions.py file.\")\n",
    "    for i in inclusive(25):\n",
    "        print(i, end=\" \")\n",
    "        \n",
    "def inclusive(*args):\n",
    "    num_args = len(args)\n",
    "    if num_args == 1:\n",
    "        stop = args[0]\n",
    "        start = 0\n",
    "        step = 1\n",
    "    elif num_args == 2: \n",
    "        start, stop = args\n",
    "        step =1\n",
    "    elif num_args ==3: \n",
    "        start, stop, steps = args\n",
    "    i = start\n",
    "    while i <= stop: \n",
    "        yield i     \n",
    "        i += 1\n",
    "# def inclusive(*args):\n",
    "#     num_args = len(args)\n",
    "#     print(num_args )\n",
    "#     if num_args == 1:\n",
    "#         stop = args[0]\n",
    "#         start = 0\n",
    "#         step = 1 \n",
    "#         print( start,stop,step  )\n",
    "if __name__ == \"__main__\": main()"
   ]
  },
  {
   "cell_type": "code",
   "execution_count": null,
   "id": "eaeb2f31-8988-4bd1-b790-7a5ccd891fc6",
   "metadata": {
    "collapsed": true,
    "jupyter": {
     "outputs_hidden": true,
     "source_hidden": true
    }
   },
   "outputs": [],
   "source": [
    "# %load C:\\Users\\zhen-\\Documents\\Python_Scripts\\Lynnda_Exercise_Files\\12 Classes\\classes.py\n",
    "#!/usr/bin/python3\n",
    "# classes.py by Bill Weinman [http://bw.org/]\n",
    "# This is an exercise file from Python 3 Essential Training on lynda.com\n",
    "# Copyright 2010 The BearHeart Group, LLC\n",
    "\n",
    "class Duck:\n",
    "    def __init__(self, color=\"white\"):\n",
    "        self._color=color\n",
    "\n",
    "    def quack(self):\n",
    "        print('Quaaack!')\n",
    "\n",
    "    def walk(self):\n",
    "        print('Walks like a duck.')\n",
    "        \n",
    "    def set_color(self, color):\n",
    "        self._color=color\n",
    "\n",
    "    def get_color(self):\n",
    "        return self._color\n",
    "   \n",
    "\n",
    "def main():\n",
    "    donald = Duck()\n",
    "    # donald.quack()\n",
    "    # donald.walk()\n",
    "    print(donald.get_color())\n",
    "    donald.set_color('pink')\n",
    "    print(donald.get_color())\n",
    "\n",
    "if __name__ == \"__main__\": main()\n"
   ]
  },
  {
   "cell_type": "code",
   "execution_count": null,
   "id": "a57dd3dd-1ca9-4311-9a63-2fe040eb8a3d",
   "metadata": {},
   "outputs": [],
   "source": [
    "# %load C:\\Users\\zhen-\\Documents\\Python_Scripts\\Lynnda_Exercise_Files\\12 Classes\\classes.py\n",
    "\n",
    "#!/usr/bin/python3\n",
    "# classes.py by Bill Weinman [http://bw.org/]\n",
    "# This is an exercise file from Python 3 Essential Training on lynda.com\n",
    "# Copyright 2010 The BearHeart Group, LLC\n",
    "\n",
    "class Duck:\n",
    "    def __init__(self, **kwargs):\n",
    "        self.variables=kwargs\n",
    "\n",
    "    def quack(self):\n",
    "        print('Quaaack!')\n",
    "\n",
    "    def walk(self):\n",
    "        print('Walks like a duck.')\n",
    "        \n",
    "    # def set_color(self, color):\n",
    "    #     self.variables[\"color\"]=color\n",
    "    # def get_color(self):\n",
    "    #     return self.variables.get(\"color\", None)\n",
    "    # def get_feet(self):\n",
    "    #     return self.variables.get(\"feet\", None)\n",
    "\n",
    "    def set_variable(self, k,v):\n",
    "        self.variables[k]=v\n",
    "\n",
    "    def get_variable(self, k):\n",
    "        return self.variables.get(k, None)\n",
    "   \n",
    "\n",
    "def main():\n",
    "    # 注意 init 和 后面 set method 格式完全不同\n",
    "    donald = Duck(feet=2, color='cyan')\n",
    "    # donald.quack()\n",
    "    # donald.walk()\n",
    "    # print(donald.get_color())\n",
    "    # donald.set_color('pink')\n",
    "    # print(donald.get_color())\n",
    "    # print(donald.get_feet())\n",
    "    donald.set_variable('sound', 'kaka')\n",
    "    print(donald.get_variable('sound'))\n",
    "\n",
    "if __name__ == \"__main__\": main()"
   ]
  },
  {
   "cell_type": "code",
   "execution_count": 27,
   "id": "bafb822a-2e3a-49d7-a638-34e5af2b3ee2",
   "metadata": {},
   "outputs": [
    {
     "name": "stdout",
     "output_type": "stream",
     "text": [
      "0 1 2 3 4 5 6 7 8 9 10 11 12 13 14 15 16 17 18 19 20 21 22 23 24 25 \n",
      "8 9 10 11 12 13 14 15 16 17 18 19 20 21 22 23 24 25 \n",
      "10 13 16 19 22 25 "
     ]
    }
   ],
   "source": [
    "# %load C:\\Users\\zhen-\\Documents\\Python_Scripts\\Lynnda_Exercise_Files\\12 Classes\\generator.py\n",
    "#!/usr/bin/python3\n",
    "# classes.py by Bill Weinman [http://bw.org/]\n",
    "# This is an exercise file from Python 3 Essential Training on lynda.com\n",
    "# Copyright 2010 The BearHeart Group, LLC\n",
    "     \n",
    "class inclusive:\n",
    "    def __init__(self, *args): \n",
    "        num_args = len(args) \n",
    "        if num_args < 1 or num_args > 3 : raise TypeError('at lease 1 argument and at most 3 NEEDED')\n",
    "        elif num_args == 1:\n",
    "            self.stop = args[0]\n",
    "            self.start = 0\n",
    "            self.step = 1\n",
    "        elif num_args == 2: \n",
    "            self.start, self.stop = args\n",
    "            self.step =1\n",
    "        elif num_args ==3: \n",
    "            self.start, self.stop, self.step = args\n",
    "            \n",
    "    def __iter__(self): \n",
    "        i = self.start\n",
    "        while i <= self.stop:         \n",
    "            yield i  \n",
    "            i += self.step\n",
    "        #self.variables=kwargs\n",
    "        \n",
    "\n",
    "def main():\n",
    "    o = inclusive(25)\n",
    "    for i in o: print(i, end = ' ')\n",
    "    print()    \n",
    "    o = inclusive(8,25)\n",
    "    for i in o: print(i, end = ' ')\n",
    "    print()    \n",
    "    o = inclusive(10,25,3)\n",
    "    for i in o: print(i, end = ' ')\n",
    "\n",
    "    # o = inclusive(10,25,3,5)\n",
    "    # for i in o: print(i, end = ' ')\n",
    "\n",
    "\n",
    "if __name__ == \"__main__\": main()\n"
   ]
  },
  {
   "cell_type": "markdown",
   "id": "bfd42fac-75c1-4acb-a2a2-87776790f713",
   "metadata": {},
   "source": [
    "装饰器(decorator)是一种高级Python语法，也是 Python 函数式编程的一部分。写法是 @xxx，在 Pandas、Django 框架源码里经常能见到，应用非常广泛。\n",
    "虽然不用装饰器也不影响开发，但用了装饰器可以让你的代码“秀”起来，当然装饰器的作用不仅仅是“秀”，更重要的是它可以让你的代码更简洁，可读性更高；业务逻辑解耦，维护更容易。\n",
    "函数基础\n",
    "学习装饰器之前，我们先学习下 Python 函数的两个特性，函数体内可以定义函数 和 函数可以被引用。有基础的朋友可以略过，直接看下一小节。\n",
    "例1. 函数体内定义函数\n",
    "ruby 代码解读复制代码"
   ]
  },
  {
   "cell_type": "code",
   "execution_count": 32,
   "id": "354228a0-6599-4d25-9956-13ad9b67f2d0",
   "metadata": {},
   "outputs": [
    {
     "name": "stdout",
     "output_type": "stream",
     "text": [
      "pink\n"
     ]
    }
   ],
   "source": [
    "# %load C:\\Users\\zhen-\\Documents\\Python_Scripts\\Lynnda_Exercise_Files\\12 Classes\\decorators.py\n",
    "# 内置装饰器\n",
    "# Python 内置了一些装饰器，这里列几个我们经常会用到的一些：\n",
    "\n",
    "# @property：修饰类方法，使得我们可以像访问属性一样来获取一个函数的返回值\n",
    "# @staticmethod：修饰类方法，表示该方法是一个静态方法，可以直接被调用无需实例化\n",
    "# @wraps：函数来进行装饰，可以让我们在装饰器里面访问在装饰之前的函数的属性\n",
    "\n",
    "class Duck:\n",
    "    def __init__(self, **kwargs):\n",
    "        self.properties = kwargs\n",
    "\n",
    "    def quack(self):\n",
    "        print('Quaaack!')\n",
    "\n",
    "    def walk(self):\n",
    "        print('Walks like a duck.')\n",
    "\n",
    "    def get_properties(self):\n",
    "        return self.properties\n",
    "\n",
    "    def get_property(self, key):\n",
    "        return self.properties.get(key, None)\n",
    "\n",
    "    @property\n",
    "    def color(self):\n",
    "        return self.properties.get('color', None)         \n",
    "    @color.setter\n",
    "    def color(self, c):\n",
    "        self.properties['color'] = c\n",
    "    @color.deleter\n",
    "    def color(self, c):\n",
    "        del self.properties['color'] \n",
    "\n",
    "def main():\n",
    "    donald = Duck(color = 'blue') #     donald = Duck(color = 'blue')\n",
    "    donald.color = 'pink' #    \n",
    "    print(donald.color)\n",
    "\n",
    "if __name__ == \"__main__\": main()\n"
   ]
  },
  {
   "cell_type": "code",
   "execution_count": 36,
   "id": "dca1f156-78fa-4bd4-b837-a09b3879accd",
   "metadata": {},
   "outputs": [
    {
     "name": "stdout",
     "output_type": "stream",
     "text": [
      "<function func1.<locals>.func2 at 0x0000022B7683E020>\n",
      "in func2\n"
     ]
    }
   ],
   "source": [
    "# https://juejin.cn/post/7110397327344402439\n",
    "def func1():\n",
    "    def func2():\n",
    "        return \"in func2\"\n",
    "\n",
    "    #print(func2)\n",
    "    return func2\n",
    "\n",
    "\n",
    "new_func = func1()\n",
    "print(new_func)\n",
    "print(new_func())\n",
    "\n"
   ]
  },
  {
   "cell_type": "code",
   "execution_count": 37,
   "id": "69e9e192-a328-442e-9c37-341be691dbb4",
   "metadata": {},
   "outputs": [
    {
     "name": "stdout",
     "output_type": "stream",
     "text": [
      "清洗土豆\n",
      "去皮，切丝\n",
      "清炒\n",
      "出锅\n"
     ]
    }
   ],
   "source": [
    "def my_decorator(func):\n",
    "    def wrapper():\n",
    "        func()\n",
    "        print('清炒')\n",
    "        print('出锅')\n",
    "\n",
    "    return wrapper\n",
    "\n",
    "@my_decorator\n",
    "def tu_dou_si():\n",
    "    print('清洗土豆')\n",
    "    print('去皮，切丝')\n",
    "tu_dou_si()    "
   ]
  },
  {
   "cell_type": "code",
   "execution_count": 40,
   "id": "63f33393-0314-4408-8fea-447cf7220811",
   "metadata": {},
   "outputs": [
    {
     "name": "stdout",
     "output_type": "stream",
     "text": [
      "清洗土豆\n",
      "去皮，切丝\n",
      "凉拌\n",
      "出锅\n"
     ]
    }
   ],
   "source": [
    "def cai_factory(cai_type='清炒'):\n",
    "    def my_decorator(func): # from the above decorator\n",
    "        def wrapper():\n",
    "            func()\n",
    "            print(f'{cai_type}')\n",
    "            print('出锅')\n",
    "\n",
    "        return wrapper\n",
    "    return my_decorator\n",
    "\n",
    "\n",
    "@cai_factory('凉拌')\n",
    "def tu_dou_si():\n",
    "    print('清洗土豆')\n",
    "    print('去皮，切丝')\n",
    "tu_dou_si\n",
    "tu_dou_si()\n"
   ]
  },
  {
   "cell_type": "code",
   "execution_count": 47,
   "id": "0b5d4a0b-1e87-42ca-8bb8-7a50e9a4895a",
   "metadata": {},
   "outputs": [
    {
     "name": "stdout",
     "output_type": "stream",
     "text": [
      "我是函数myfunc (-3.289071132954093e+119-9.431165103326756e+119j)\n",
      "49745042224772874403902341504126809639656611137138843145968864022652168932196355119328515747917449637889876686464600208839390308261862352651828829226610077151044469167497022952331930501120000000000000000000000000000000\n",
      "函数执行所花费的时间为：0.0\n"
     ]
    }
   ],
   "source": [
    "# https://blog.csdn.net/qq_27825451/article/details/84396970\n",
    "import time\n",
    "import math\n",
    "time.clock = time.time\n",
    "#原来的函数myfunc\n",
    "def myfunc():\n",
    "    print(\"我是函数myfunc\", (17+3j)**97)\n",
    "    print(math.factorial(129))\n",
    " \n",
    "#定义一个计时器\n",
    "def timeit(function):\n",
    "    '''\n",
    "       timeit函数负责返回一个wrapper，wrapper的参数要与原来的myfunc保持相同\n",
    "       这样一来，执行 myfunc=timeit(myfunc)  myfunc完全等价于wrapper\n",
    "       wrapper函数负责添加额外功能\n",
    "    '''\n",
    "    def wrapper():\n",
    "        start = time.clock()\n",
    "        function()\n",
    "        end =time.clock()\n",
    "        print(f'函数执行所花费的时间为：{end-start}')\n",
    "    return wrapper\n",
    " \n",
    "myfunc=timeit(myfunc)  #注意，这里与前面的 “myfunc=timeit”是有所区别的哦\n",
    "myfunc()"
   ]
  },
  {
   "cell_type": "code",
   "execution_count": 48,
   "id": "c0d561a1-9a23-4b44-9cb1-52571c0ef307",
   "metadata": {},
   "outputs": [
    {
     "data": {
      "text/plain": [
       "'statda da \\n'"
      ]
     },
     "execution_count": 48,
     "metadata": {},
     "output_type": "execute_result"
    }
   ],
   "source": [
    "s1=\"statda da \\n\"\n",
    "s1"
   ]
  },
  {
   "cell_type": "code",
   "execution_count": 49,
   "id": "d4834665-fa9a-4c82-a12f-d1f2875771a6",
   "metadata": {},
   "outputs": [
    {
     "name": "stdout",
     "output_type": "stream",
     "text": [
      "statda da \n",
      "\n"
     ]
    }
   ],
   "source": [
    "print(s1)"
   ]
  },
  {
   "cell_type": "code",
   "execution_count": 50,
   "id": "cbf4b845-1b40-4da7-a088-e77130a307c8",
   "metadata": {},
   "outputs": [
    {
     "data": {
      "text/plain": [
       "False"
      ]
     },
     "execution_count": 50,
     "metadata": {},
     "output_type": "execute_result"
    }
   ],
   "source": [
    "s1.isalpha()"
   ]
  },
  {
   "cell_type": "code",
   "execution_count": 61,
   "id": "86d314c4-4774-4847-9065-ce22f339daac",
   "metadata": {},
   "outputs": [],
   "source": [
    "s2=\"this is a sample string\"\n",
    "s2=\"thisstri ng\""
   ]
  },
  {
   "cell_type": "code",
   "execution_count": 62,
   "id": "401fb5e0-42bf-4362-a76a-6f77dfe3aae4",
   "metadata": {
    "collapsed": true,
    "jupyter": {
     "outputs_hidden": true
    },
    "scrolled": true
   },
   "outputs": [
    {
     "name": "stdout",
     "output_type": "stream",
     "text": [
      "Help on built-in function isalnum:\n",
      "\n",
      "isalnum() method of builtins.str instance\n",
      "    Return True if the string is an alpha-numeric string, False otherwise.\n",
      "\n",
      "    A string is alpha-numeric if all characters in the string are alpha-numeric and\n",
      "    there is at least one character in the string.\n",
      "\n"
     ]
    }
   ],
   "source": [
    "help(s2.isalnum) "
   ]
  },
  {
   "cell_type": "code",
   "execution_count": null,
   "id": "9b331574-59c8-436c-9e05-c681629dd7b6",
   "metadata": {
    "collapsed": true,
    "jupyter": {
     "outputs_hidden": true,
     "source_hidden": true
    }
   },
   "outputs": [],
   "source": [
    "# %load C:\\Users\\zhen-\\Documents\\Python_Scripts\\Lynnda_Exercise_Files\\09 Regexes\\regex.py"
   ]
  },
  {
   "cell_type": "code",
   "execution_count": 64,
   "id": "e263c3e6-bb2e-4376-945d-63fe738cf78a",
   "metadata": {},
   "outputs": [
    {
     "data": {
      "text/plain": [
       "tuple"
      ]
     },
     "execution_count": 64,
     "metadata": {},
     "output_type": "execute_result"
    }
   ],
   "source": [
    "t = 1, \n",
    "type(t)"
   ]
  },
  {
   "cell_type": "code",
   "execution_count": 65,
   "id": "1b561842-5c00-4427-9a47-3550c52f0a32",
   "metadata": {},
   "outputs": [
    {
     "data": {
      "text/plain": [
       "5"
      ]
     },
     "execution_count": 65,
     "metadata": {},
     "output_type": "execute_result"
    }
   ],
   "source": [
    "l = [1,2,3,5]\n",
    "l.append(100)\n",
    "len(l)"
   ]
  },
  {
   "cell_type": "code",
   "execution_count": 67,
   "id": "03437dd5-ce2a-4535-9f3e-eb17959b8b92",
   "metadata": {},
   "outputs": [],
   "source": [
    "l.insert(0,12)"
   ]
  },
  {
   "cell_type": "code",
   "execution_count": 68,
   "id": "890798d7-9404-4b9d-a79e-886759a6379d",
   "metadata": {},
   "outputs": [
    {
     "data": {
      "text/plain": [
       "[12, 1, 2, 3, 5, 100]"
      ]
     },
     "execution_count": 68,
     "metadata": {},
     "output_type": "execute_result"
    }
   ],
   "source": [
    "l"
   ]
  },
  {
   "cell_type": "code",
   "execution_count": 69,
   "id": "bb2f2514-6ed4-471d-9a01-e6fe43c81631",
   "metadata": {},
   "outputs": [],
   "source": [
    "l.remove(12)"
   ]
  },
  {
   "cell_type": "code",
   "execution_count": 70,
   "id": "27db0c16-9918-407b-956b-19d11294fea7",
   "metadata": {},
   "outputs": [
    {
     "data": {
      "text/plain": [
       "[1, 2, 3, 5, 100]"
      ]
     },
     "execution_count": 70,
     "metadata": {},
     "output_type": "execute_result"
    }
   ],
   "source": [
    "l\n"
   ]
  },
  {
   "cell_type": "code",
   "execution_count": 72,
   "id": "d878b90c-b31b-4971-bb8f-6db1d167533e",
   "metadata": {},
   "outputs": [],
   "source": [
    "l.append(99) # python has no push"
   ]
  },
  {
   "cell_type": "code",
   "execution_count": 73,
   "id": "cd2db2c3-3995-4d8f-8f7a-b97ab1867bd6",
   "metadata": {},
   "outputs": [
    {
     "data": {
      "text/plain": [
       "99"
      ]
     },
     "execution_count": 73,
     "metadata": {},
     "output_type": "execute_result"
    }
   ],
   "source": [
    "l.pop()"
   ]
  },
  {
   "cell_type": "code",
   "execution_count": 74,
   "id": "f2c5e08f-df42-4a7c-ab7e-e5c84a8f8448",
   "metadata": {},
   "outputs": [
    {
     "data": {
      "text/plain": [
       "{'one': 1, 'two': 2, 'three': 3, 'four': 4, 'five': 5}"
      ]
     },
     "execution_count": 74,
     "metadata": {},
     "output_type": "execute_result"
    }
   ],
   "source": [
    "d1={'one':1 ,'two':2, 'three':3, 'four':4, 'five':5 }\n",
    "d1"
   ]
  },
  {
   "cell_type": "code",
   "execution_count": 77,
   "id": "c5943b9f",
   "metadata": {},
   "outputs": [
    {
     "data": {
      "text/plain": [
       "{'one': 1, 'two': 2, 'three': 3, 'four': 4, 'five': 5}"
      ]
     },
     "execution_count": 77,
     "metadata": {},
     "output_type": "execute_result"
    }
   ],
   "source": [
    "d2=dict(one=1 ,two=2, three=3, four=4, five=5 )\n",
    "d2"
   ]
  },
  {
   "cell_type": "code",
   "execution_count": 79,
   "id": "5740d549",
   "metadata": {},
   "outputs": [
    {
     "data": {
      "text/plain": [
       "{'one': 1, 'seven': 7, 'eight': 8, 'nine': 3}"
      ]
     },
     "execution_count": 79,
     "metadata": {},
     "output_type": "execute_result"
    }
   ],
   "source": [
    "d3=dict(seven=7 ,eight=8, nine=3)\n",
    "d4=dict(one=1 , **d3)\n",
    "d4"
   ]
  },
  {
   "cell_type": "code",
   "execution_count": 80,
   "id": "f2deeab4-29a5-4191-80a5-48fa85d4e3f2",
   "metadata": {},
   "outputs": [
    {
     "data": {
      "text/plain": [
       "False"
      ]
     },
     "execution_count": 80,
     "metadata": {},
     "output_type": "execute_result"
    }
   ],
   "source": [
    "\"eleven\" in d4"
   ]
  },
  {
   "cell_type": "code",
   "execution_count": 82,
   "id": "0d7a80ab-458a-4be4-a09d-6e8aa3594883",
   "metadata": {},
   "outputs": [
    {
     "name": "stdout",
     "output_type": "stream",
     "text": [
      "Create table test\n",
      "Create rows\n",
      "  four: 4\n",
      "  one: 1\n",
      "  three: 3\n",
      "  two: 2\n",
      "Retrieve rows\n",
      "{'t1': 'one', 'i1': 1} {'t1': 'two', 'i1': 2}\n",
      "Update rows\n",
      "  four: 4\n",
      "  one: 101\n",
      "  three: 103\n",
      "  two: 2\n",
      "Delete rows\n",
      "  four: 4\n",
      "  two: 2\n"
     ]
    }
   ],
   "source": [
    "# %load C:\\Users\\zhen-\\Documents\\Python_Scripts\\Lynnda_Exercise_Files\\16 Databases\\sqlite3-crud.py\n",
    "#!/usr/bin/python3\n",
    "# sqlite3-crud.py by Bill Weinman [http://bw.org/]\n",
    "# This is an exercise file from Python 3 Essential Training on lynda.com\n",
    "# Copyright 2010 The BearHeart Group, LLC\n",
    "\n",
    "import sqlite3\n",
    "\n",
    "def insert(db, row):\n",
    "    db.execute('insert into test (t1, i1) values (?, ?)', (row['t1'], row['i1']))\n",
    "    db.commit()\n",
    "def retrieve(db, t1):\n",
    "    cursor = db.execute('select * from test where t1 = ?', (t1,))\n",
    "    return cursor.fetchone()\n",
    "def update(db, row):\n",
    "    db.execute('update test set i1 = ? where t1 = ?', (row['i1'], row['t1']))\n",
    "    db.commit()\n",
    "def delete(db, t1):\n",
    "    db.execute('delete from test where t1 = ?', (t1,))\n",
    "    db.commit()\n",
    "\n",
    "def disp_rows(db):# display\n",
    "    cursor = db.execute('select * from test order by t1')\n",
    "    for row in cursor:\n",
    "        print('  {}: {}'.format(row['t1'], row['i1']))\n",
    "\n",
    "def main():\n",
    "    db = sqlite3.connect('test.db')\n",
    "    db.row_factory = sqlite3.Row # specify the row is re\n",
    "    print('Create table test')\n",
    "    db.execute('drop table if exists test')\n",
    "    db.execute('create table test ( t1 text, i1 int )')\n",
    "\n",
    "    print('Create rows')\n",
    "    insert(db, dict(t1 = 'one', i1 = 1))\n",
    "    insert(db, dict(t1 = 'two', i1 = 2))\n",
    "    insert(db, dict(t1 = 'three', i1 = 3))\n",
    "    insert(db, dict(t1 = 'four', i1 = 4))\n",
    "    disp_rows(db)\n",
    "\n",
    "    print('Retrieve rows')\n",
    "    print(dict(retrieve(db, 'one')), dict(retrieve(db, 'two')))\n",
    "\n",
    "    print('Update rows')\n",
    "    update(db, dict(t1 = 'one', i1 = 101))\n",
    "    update(db, dict(t1 = 'three', i1 = 103))\n",
    "    disp_rows(db)\n",
    "\n",
    "    print('Delete rows')\n",
    "    delete(db, 'one')\n",
    "    delete(db, 'three')\n",
    "    disp_rows(db)\n",
    "\n",
    "if __name__ == \"__main__\": main()\n"
   ]
  },
  {
   "cell_type": "code",
   "execution_count": 83,
   "id": "44676edf-bda4-44ea-926c-4fe892f095d0",
   "metadata": {},
   "outputs": [],
   "source": [
    "# %load C:\\Users\\zhen-\\Documents\\Python_Scripts\\Lynnda_Exercise_Files\\16 Databases\\sqlite3-class.py\n",
    "#!/usr/bin/python3\n",
    "# sqlite3-class.py by Bill Weinman [http://bw.org/]\n",
    "# This is an exercise file from Python 3 Essential Training on lynda.com\n",
    "# Copyright 2010 The BearHeart Group, LLC\n",
    "\n",
    "import sqlite3\n",
    "\n",
    "class database:\n",
    "    def __init__(self, **kwargs):\n",
    "        self.filename = kwargs.get('filename')\n",
    "        self.table = kwargs.get('table', 'test')\n",
    "    \n",
    "    def sql_do(self, sql, *params):\n",
    "        self._db.execute(sql, params)\n",
    "        self._db.commit()\n",
    "    \n",
    "    def insert(self, row):\n",
    "        self._db.execute('insert into {} (t1, i1) values (?, ?)'.format(self._table), (row['t1'], row['i1']))\n",
    "        self._db.commit()\n",
    "    \n",
    "    def retrieve(self, key):\n",
    "        cursor = self._db.execute('select * from {} where t1 = ?'.format(self._table), (key,))\n",
    "        return dict(cursor.fetchone())\n",
    "    \n",
    "    def update(self, row):\n",
    "        self._db.execute(\n",
    "            'update {} set i1 = ? where t1 = ?'.format(self._table),\n",
    "            (row['i1'], row['t1']))\n",
    "        self._db.commit()\n",
    "    \n",
    "    def delete(self, key):\n",
    "        self._db.execute('delete from {} where t1 = ?'.format(self._table), (key,))\n",
    "        self._db.commit()\n",
    "\n",
    "    def disp_rows(self):\n",
    "        cursor = self._db.execute('select * from {} order by t1'.format(self._table))\n",
    "        for row in cursor:\n",
    "            print('  {}: {}'.format(row['t1'], row['i1']))\n",
    "\n",
    "    def __iter__(self):\n",
    "        cursor = self._db.execute('select * from {} order by t1'.format(self._table))\n",
    "        for row in cursor:\n",
    "            yield dict(row)\n",
    "\n",
    "    @property\n",
    "    def filename(self): return self._filename\n",
    "\n",
    "    @filename.setter\n",
    "    def filename(self, fn):\n",
    "        self._filename = fn\n",
    "        self._db = sqlite3.connect(fn)\n",
    "        self._db.row_factory = sqlite3.Row\n",
    "\n",
    "    @filename.deleter\n",
    "    def filename(self): self.close()\n",
    "\n",
    "    @property\n",
    "    def table(self): return self._table\n",
    "    @table.setter\n",
    "    def table(self, t): self._table = t\n",
    "    @table.deleter\n",
    "    def table(self): self._table = 'test'\n",
    "\n",
    "    def close(self):\n",
    "            self._db.close()\n",
    "            del self._filename\n",
    "\n",
    "def main():\n",
    "    db = database(filename = 'test.db', table = 'test')\n",
    "\n",
    "    print('Create table test')\n",
    "    db.sql_do('drop table if exists test')\n",
    "    db.sql_do('create table test ( t1 text, i1 int )')\n",
    "\n",
    "    print('Create rows')\n",
    "    db.insert(dict(t1 = 'one', i1 = 1))\n",
    "    db.insert(dict(t1 = 'two', i1 = 2))\n",
    "    db.insert(dict(t1 = 'three', i1 = 3))\n",
    "    db.insert(dict(t1 = 'four', i1 = 4))\n",
    "    for row in db: print(row)\n",
    "\n",
    "    print('Retrieve rows')\n",
    "    print(db.retrieve('one'), db.retrieve('two'))\n",
    "\n",
    "    print('Update rows')\n",
    "    db.update(dict(t1 = 'one', i1 = 101))\n",
    "    db.update(dict(t1 = 'three', i1 = 103))\n",
    "    for row in db: print(row)\n",
    "\n",
    "    print('Delete rows')\n",
    "    db.delete('one')\n",
    "    db.delete('three')\n",
    "    for row in db: print(row)\n",
    "\n",
    "if __name__ == \"__main__\": main()\n"
   ]
  },
  {
   "cell_type": "code",
   "execution_count": null,
   "id": "55491cef-ca60-4f6a-8207-b4ee672bc6d5",
   "metadata": {},
   "outputs": [],
   "source": [
    "# %load C:\\Users\\zhen-\\Documents\\Python_Scripts\\Lynnda_Exercise_Files\\12 Classes\\classes.py"
   ]
  },
  {
   "cell_type": "code",
   "execution_count": null,
   "id": "b4afef35-80c5-41fb-a948-2589c59e607a",
   "metadata": {
    "collapsed": true,
    "jupyter": {
     "outputs_hidden": true
    }
   },
   "outputs": [],
   "source": [
    "# %load C:\\Users\\zhen-\\Documents\\Python_Scripts\\Lynnda_Exercise_Files\\11 Functions\\generator.py"
   ]
  },
  {
   "cell_type": "code",
   "execution_count": null,
   "id": "659c63f8-4c53-48b9-84b8-8da79481eeb4",
   "metadata": {},
   "outputs": [],
   "source": []
  }
 ],
 "metadata": {
  "kernelspec": {
   "display_name": "Python 3 (ipykernel)",
   "language": "python",
   "name": "python3"
  },
  "language_info": {
   "codemirror_mode": {
    "name": "ipython",
    "version": 3
   },
   "file_extension": ".py",
   "mimetype": "text/x-python",
   "name": "python",
   "nbconvert_exporter": "python",
   "pygments_lexer": "ipython3",
   "version": "3.12.3"
  },
  "panel-cell-order": [
   "f100d6f4-b53c-4cf0-bf2f-d6a72ca7262a",
   "ff28fbac-8c48-4cb0-ad82-8e2838d4e7ee",
   "a5d3fcf1-7d28-4e96-af78-b8fcee5e4abb",
   "e66f312b-9c7c-4031-9632-709e60ce2fb5"
  ]
 },
 "nbformat": 4,
 "nbformat_minor": 5
}
