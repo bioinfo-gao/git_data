{
 "cells": [
  {
   "cell_type": "code",
   "execution_count": 9,
   "id": "5b7696b5-b862-454d-95d4-f1beb55c29ea",
   "metadata": {},
   "outputs": [],
   "source": [
    "def SaySome(name, words=\"Hello\"):\n",
    "    print(name + \" ==> \" + words)"
   ]
  },
  {
   "cell_type": "code",
   "execution_count": 10,
   "id": "87ee7005-0000-492e-be28-8373e55bff49",
   "metadata": {},
   "outputs": [
    {
     "name": "stdout",
     "output_type": "stream",
     "text": [
      "Zhen ==> Hello\n"
     ]
    }
   ],
   "source": [
    "SaySome(\"Zhen\")"
   ]
  },
  {
   "cell_type": "code",
   "execution_count": 11,
   "id": "c058592d-ae99-4780-a75b-51a8ac2f90eb",
   "metadata": {},
   "outputs": [
    {
     "name": "stdout",
     "output_type": "stream",
     "text": [
      "Zhen ==> Hello\n"
     ]
    }
   ],
   "source": [
    "SaySome(\"Zhen\", words=\"Hello\")"
   ]
  },
  {
   "cell_type": "code",
   "execution_count": null,
   "id": "795d363a-4a8d-4ed8-b9f2-dfc75b0dee9d",
   "metadata": {},
   "outputs": [],
   "source": [
    "SaySome(words=\"Hello\", \"Zhen\" ) # positional argument follows keyword argument"
   ]
  },
  {
   "cell_type": "code",
   "execution_count": 12,
   "id": "d78edf3c-1273-4e8c-ae10-fcda978d3147",
   "metadata": {},
   "outputs": [
    {
     "name": "stdout",
     "output_type": "stream",
     "text": [
      "Zhen ==> Hello\n"
     ]
    }
   ],
   "source": [
    "SaySome(words=\"Hello\", name= \"Zhen\" ) # positional argument follows keyword argument"
   ]
  },
  {
   "cell_type": "code",
   "execution_count": 23,
   "id": "ac2241e4-6cc9-4cb8-b809-6bcacfe5701f",
   "metadata": {},
   "outputs": [],
   "source": [
    "def Test(*params, exp):\n",
    "    print(\"参赛的长度是\" + ' ==> ' , len(params) , exp)\n",
    "    print(\"第二个参数是\" + ' ==> ', params[1])\n",
    "    print(\"exp参数是\" + ' ==> ', exp)"
   ]
  },
  {
   "cell_type": "code",
   "execution_count": null,
   "id": "d141f0cc-0093-47df-8414-a40a1a07a4a6",
   "metadata": {
    "scrolled": true
   },
   "outputs": [],
   "source": [
    "Test(1, 'Fish', 3.14, 2.71828, 8) # Test() missing 1 required keyword-only argument: 'exp'\n"
   ]
  },
  {
   "cell_type": "code",
   "execution_count": 25,
   "id": "1c9c527f-10ed-4341-a881-bde706fb7361",
   "metadata": {},
   "outputs": [
    {
     "name": "stdout",
     "output_type": "stream",
     "text": [
      "参赛的长度是 ==>  4 8\n",
      "第二个参数是 ==>  Fish\n",
      "exp参数是 ==>  8\n"
     ]
    }
   ],
   "source": [
    "Test(1, 'Fish', 3.14, 2.71828, exp=8) # Test() missing 1 required keyword-only argument: 'exp'\n"
   ]
  },
  {
   "cell_type": "markdown",
   "id": "d5422f74-18d5-4e3b-b35a-cdb299b207d8",
   "metadata": {},
   "source": [
    "#### local and global variable"
   ]
  },
  {
   "cell_type": "code",
   "execution_count": 29,
   "id": "8aae3bbd-1375-4387-bcf3-d484c909ec66",
   "metadata": {},
   "outputs": [],
   "source": [
    "def discount(price, rate):\n",
    "    final_price = price * rate\n",
    "    print( \"The INSIDE Printing ==> fianl price is \", final_price)  \n",
    "    return final_price  "
   ]
  },
  {
   "cell_type": "code",
   "execution_count": 31,
   "id": "be9b26f6-fbf6-419e-9f67-3398ac36eaf4",
   "metadata": {},
   "outputs": [
    {
     "name": "stdin",
     "output_type": "stream",
     "text": [
      " please enter raw price :  50\n",
      " please enter discount rate :  0.82\n"
     ]
    },
    {
     "name": "stdout",
     "output_type": "stream",
     "text": [
      "The INSIDE Printing ==> fianl price is  41.0\n",
      "The updated_price 41.0\n"
     ]
    }
   ],
   "source": [
    "raw_price = float(input(\" please enter raw price : \"))\n",
    "rate = float(input(\" please enter discount rate : \"))\n",
    "updated_price = discount(raw_price , rate)\n",
    "print('The updated_price', updated_price)\n",
    "# print('The final price', final_price) # functional local variable is NOT SEEN outside"
   ]
  },
  {
   "cell_type": "code",
   "execution_count": 32,
   "id": "3befc088-dfe4-4bb7-b681-d3071cc5624a",
   "metadata": {},
   "outputs": [],
   "source": [
    "def discount(price, rate):\n",
    "    final_price = price * rate\n",
    "    print( \"The INSIDE Printing ==> fianl price is \", final_price)  \n",
    "    price=50\n",
    "    print( \"The INSIDE Printing ==> fianl price is \", price)  \n",
    "    return final_price  "
   ]
  },
  {
   "cell_type": "code",
   "execution_count": 34,
   "id": "6e2c02e3-e8a3-4ff9-93cf-cc2deca7d826",
   "metadata": {},
   "outputs": [
    {
     "name": "stdin",
     "output_type": "stream",
     "text": [
      " please enter raw price :  100\n",
      " please enter discount rate :  50\n"
     ]
    },
    {
     "name": "stdout",
     "output_type": "stream",
     "text": [
      "The INSIDE Printing ==> fianl price is  5000.0\n",
      "The INSIDE Printing ==> fianl price is  50\n",
      "The updated_price 5000.0\n"
     ]
    }
   ],
   "source": [
    "raw_price = float(input(\" please enter raw price : \"))\n",
    "rate = float(input(\" please enter discount rate : \"))\n",
    "updated_price = discount(raw_price , rate)\n",
    "# print( \"The INSIDE Printing ==> fianl price is \", price) # NameError: name 'price' is not defined  \n",
    "print('The updated_price', updated_price) \n",
    "# print('The final price', final_price) # functional local variable is NOT SEEN outside"
   ]
  },
  {
   "cell_type": "code",
   "execution_count": 45,
   "id": "5d11999c-cdd5-414a-a598-6a6013b51e0a",
   "metadata": {},
   "outputs": [
    {
     "name": "stdin",
     "output_type": "stream",
     "text": [
      " please enter raw price :  100\n",
      " please enter discount rate :  0.8\n"
     ]
    }
   ],
   "source": [
    "raw_price = float(input(\" please enter raw price : \"))\n",
    "rate = float(input(\" please enter discount rate : \"))"
   ]
  },
  {
   "cell_type": "code",
   "execution_count": null,
   "id": "bc48963e-988f-4fca-a0a8-3b6606851ede",
   "metadata": {},
   "outputs": [],
   "source": [
    "#### global"
   ]
  },
  {
   "cell_type": "code",
   "execution_count": 51,
   "id": "dc6be116-f807-430d-90b3-93542707a883",
   "metadata": {},
   "outputs": [],
   "source": [
    "# python will AUTOMatiallly created \n",
    "def discount(price, rate):\n",
    "    final_price = price * rate\n",
    "    print( \"The INSIDE Printing ==> fianl price is \", final_price)  \n",
    "    global raw_price  #     global raw_price =50 Not allowed \n",
    "    raw_price=50\n",
    "    print( \"The INSIDE Printing ==> raw price is \", raw_price)  \n",
    "    return final_price  "
   ]
  },
  {
   "cell_type": "code",
   "execution_count": 52,
   "id": "26bf1a01-5e0c-4259-9250-5c04290c3625",
   "metadata": {},
   "outputs": [
    {
     "name": "stdout",
     "output_type": "stream",
     "text": [
      "The INSIDE Printing ==> fianl price is  40.0\n",
      "The INSIDE Printing ==> raw price is  50\n",
      "The OUTPrinting ==> raw price is  50\n",
      "The updated_price 40.0\n"
     ]
    }
   ],
   "source": [
    "updated_price = discount(raw_price , rate)\n",
    "print( \"The OUTPrinting ==> raw price is \", raw_price) # NameError: name 'price' is not defined  \n",
    "print('The updated_price', updated_price) \n",
    "# print('The final price', final_price) # functional local variable is NOT SEEN outside"
   ]
  },
  {
   "cell_type": "markdown",
   "id": "fc46ddc6-f519-405d-9175-a8ef9837361a",
   "metadata": {},
   "source": [
    "#### closure "
   ]
  },
  {
   "cell_type": "code",
   "execution_count": 65,
   "id": "a23be929-82ed-4c09-a06f-6335ec6eacd6",
   "metadata": {},
   "outputs": [],
   "source": [
    "def FunX(x):\n",
    "    def FunY(y):\n",
    "        return x*y\n",
    "    return FunY        "
   ]
  },
  {
   "cell_type": "code",
   "execution_count": 66,
   "id": "91b6d7d4-68f5-499c-afe9-461058e2e6b7",
   "metadata": {},
   "outputs": [
    {
     "data": {
      "text/plain": [
       "<function __main__.FunX.<locals>.FunY(y)>"
      ]
     },
     "execution_count": 66,
     "metadata": {},
     "output_type": "execute_result"
    }
   ],
   "source": [
    "i=FunX(8)\n",
    "i"
   ]
  },
  {
   "cell_type": "code",
   "execution_count": 67,
   "id": "039a5129-6fc7-4749-b30a-aa50142c80b6",
   "metadata": {},
   "outputs": [
    {
     "data": {
      "text/plain": [
       "40"
      ]
     },
     "execution_count": 67,
     "metadata": {},
     "output_type": "execute_result"
    }
   ],
   "source": [
    "i(5)"
   ]
  },
  {
   "cell_type": "code",
   "execution_count": 71,
   "id": "f121cc41-65cd-42a1-9b46-a2309e9e36d0",
   "metadata": {},
   "outputs": [
    {
     "name": "stdout",
     "output_type": "stream",
     "text": [
      "The XXXXXX price is  10\n",
      "The YYYYYY price is  5\n",
      "15\n"
     ]
    }
   ],
   "source": [
    "def fun1(x):\n",
    "    print( \"The XXXXXX price is \", x) \n",
    "  \n",
    "    # This is the outer function that takes an argument 'x'\n",
    "    def fun2(y):\n",
    "        print( \"The YYYYYY price is \", y) \n",
    "      \n",
    "        # This is the inner function that takes an argument 'y'\n",
    "        return x + y  # 'x' is captured from the outer function\n",
    "    \n",
    "    return fun2  # Returning the inner function as a closure\n",
    "\n",
    "# Create a closure by calling outer_function\n",
    "closure = fun1(10)\n",
    "\n",
    "# Now, we can use the closure, which \"remembers\" the value of 'x' as 10\n",
    "print(closure(5))"
   ]
  },
  {
   "cell_type": "code",
   "execution_count": 72,
   "id": "f179d309-22fe-4543-bf8b-d52180ff179d",
   "metadata": {},
   "outputs": [
    {
     "name": "stdout",
     "output_type": "stream",
     "text": [
      "The XXXXXX price is  8\n",
      "The YYYYYY price is  10\n"
     ]
    },
    {
     "data": {
      "text/plain": [
       "18"
      ]
     },
     "execution_count": 72,
     "metadata": {},
     "output_type": "execute_result"
    }
   ],
   "source": [
    "fun1(8)(10) # the first is for x, sencond for y"
   ]
  },
  {
   "cell_type": "markdown",
   "id": "0bc3fbdb-abf5-4f31-b218-4f76b0ed75fa",
   "metadata": {},
   "source": [
    "#### lambda "
   ]
  },
  {
   "cell_type": "code",
   "execution_count": 80,
   "id": "1c405996-dfd7-4c81-a078-5d855528343f",
   "metadata": {},
   "outputs": [],
   "source": [
    "glambda =lambda x, y,z : x**2 + x*y + z"
   ]
  },
  {
   "cell_type": "code",
   "execution_count": 81,
   "id": "88903c16-bfdc-4580-ad32-13e3ddd9be4d",
   "metadata": {},
   "outputs": [
    {
     "data": {
      "text/plain": [
       "23"
      ]
     },
     "execution_count": 81,
     "metadata": {},
     "output_type": "execute_result"
    }
   ],
   "source": [
    "glambda(3, 2, 8)"
   ]
  },
  {
   "cell_type": "markdown",
   "id": "a7906b63-6ef1-4eae-b468-b638c509310a",
   "metadata": {},
   "source": [
    "##### functional progamming\n",
    "##### fitler\n",
    "##### map\n",
    "##### reduce"
   ]
  },
  {
   "cell_type": "markdown",
   "id": "9a6f762b-ab54-401e-94ad-715dd370ff1a",
   "metadata": {},
   "source": []
  },
  {
   "cell_type": "code",
   "execution_count": 85,
   "id": "08c17ce8-b848-41c7-9d2d-1ac91c770018",
   "metadata": {},
   "outputs": [
    {
     "data": {
      "text/plain": [
       "<filter at 0x27a020610c0>"
      ]
     },
     "execution_count": 85,
     "metadata": {},
     "output_type": "execute_result"
    }
   ],
   "source": [
    "filter(None, [1,0, True, \" string\"]) # None just filter to get True"
   ]
  },
  {
   "cell_type": "code",
   "execution_count": 86,
   "id": "5a5b2e6a-8559-48f2-82c7-22cd3e50efcb",
   "metadata": {},
   "outputs": [],
   "source": [
    "xx=filter(None, [1,0, True, \" string\"])"
   ]
  },
  {
   "cell_type": "code",
   "execution_count": 89,
   "id": "8ebc3eb5-ca14-4dab-bb32-eaf125b021bf",
   "metadata": {},
   "outputs": [
    {
     "data": {
      "text/plain": [
       "[1, True, ' string']"
      ]
     },
     "execution_count": 89,
     "metadata": {},
     "output_type": "execute_result"
    }
   ],
   "source": [
    "list(xx) # list iternal object"
   ]
  },
  {
   "cell_type": "code",
   "execution_count": 92,
   "id": "70bda438-6651-4fa4-85a6-3944a7024889",
   "metadata": {},
   "outputs": [],
   "source": [
    "def odd(x):\n",
    "    return x%2\n",
    "    "
   ]
  },
  {
   "cell_type": "code",
   "execution_count": null,
   "id": "66cc54cc-dca6-4a2a-a311-ba029c063da9",
   "metadata": {},
   "outputs": [],
   "source": []
  },
  {
   "cell_type": "code",
   "execution_count": null,
   "id": "63f3d6c5-e81c-441a-a182-d44261e4ba35",
   "metadata": {},
   "outputs": [],
   "source": []
  },
  {
   "cell_type": "code",
   "execution_count": 95,
   "id": "b4bb556a-158f-4e96-8d83-e12f281c4906",
   "metadata": {},
   "outputs": [
    {
     "data": {
      "text/plain": [
       "[1, True, 3.14, 2.72]"
      ]
     },
     "execution_count": 95,
     "metadata": {},
     "output_type": "execute_result"
    }
   ],
   "source": [
    "num_list = [1,0, True, 3.14, 2.72]  # remove even number\n",
    "list(filter(odd, num_list) )# None just filter to get True"
   ]
  },
  {
   "cell_type": "code",
   "execution_count": 96,
   "id": "acf7e8da-a21a-4eb1-a044-06fdce9ff45e",
   "metadata": {},
   "outputs": [
    {
     "data": {
      "text/plain": [
       "[1, 3, 5, 7]"
      ]
     },
     "execution_count": 96,
     "metadata": {},
     "output_type": "execute_result"
    }
   ],
   "source": [
    "num_list = range(9)\n",
    "list(filter(odd, num_list) )# None just filter to get True"
   ]
  },
  {
   "cell_type": "code",
   "execution_count": 98,
   "id": "666889d5-6d2c-4e5e-8800-4dba85ec8bc2",
   "metadata": {},
   "outputs": [
    {
     "data": {
      "text/plain": [
       "[1, 3, 5, 7, 9, 11, 13, 15, 17]"
      ]
     },
     "execution_count": 98,
     "metadata": {},
     "output_type": "execute_result"
    }
   ],
   "source": [
    "list(filter(lambda x: x%2,  range(18)))# None just filter to get True"
   ]
  },
  {
   "cell_type": "code",
   "execution_count": 99,
   "id": "bcb847e4-3926-454a-b9b5-b947f1df566c",
   "metadata": {},
   "outputs": [
    {
     "data": {
      "text/plain": [
       "[0, 1, 4, 9, 16, 25, 36, 49, 64, 81]"
      ]
     },
     "execution_count": 99,
     "metadata": {},
     "output_type": "execute_result"
    }
   ],
   "source": [
    "list(map(lambda x: x**2, range(10)))"
   ]
  },
  {
   "cell_type": "markdown",
   "id": "65f2ff3a-e963-4dfc-9a9b-a93456e75890",
   "metadata": {},
   "source": [
    "#### recursion"
   ]
  },
  {
   "cell_type": "code",
   "execution_count": 101,
   "id": "869aa77f-9d9d-4c58-8b40-bdf03232647a",
   "metadata": {},
   "outputs": [
    {
     "data": {
      "text/plain": [
       "3628800"
      ]
     },
     "execution_count": 101,
     "metadata": {},
     "output_type": "execute_result"
    }
   ],
   "source": [
    "def factorial(n):\n",
    "    if n==1:\n",
    "        return 1\n",
    "    else :\n",
    "        return n*factorial(n-1)\n",
    "\n",
    "factorial(10)\n",
    "    "
   ]
  },
  {
   "cell_type": "code",
   "execution_count": 102,
   "id": "e4916337-bd57-4b31-b002-fc2f645e0631",
   "metadata": {},
   "outputs": [],
   "source": [
    "import os"
   ]
  },
  {
   "cell_type": "code",
   "execution_count": 103,
   "id": "7b2ee512-2db9-46d6-bc3f-565c22fe86fc",
   "metadata": {},
   "outputs": [
    {
     "data": {
      "text/plain": [
       "'C:\\\\Users\\\\zhen-\\\\Documents\\\\Python_Scripts'"
      ]
     },
     "execution_count": 103,
     "metadata": {},
     "output_type": "execute_result"
    }
   ],
   "source": [
    "os.getcwd()"
   ]
  },
  {
   "cell_type": "code",
   "execution_count": 104,
   "id": "4334db21-6e09-4ead-94a3-e124775c4a6e",
   "metadata": {},
   "outputs": [
    {
     "data": {
      "text/plain": [
       "'C:\\\\Users\\\\zhen-\\\\Documents\\\\Python_Scripts'"
      ]
     },
     "execution_count": 104,
     "metadata": {},
     "output_type": "execute_result"
    }
   ],
   "source": [
    "pwd"
   ]
  },
  {
   "cell_type": "markdown",
   "id": "f203c439-f0fc-4257-b36d-52ce1fc25b06",
   "metadata": {},
   "source": [
    "##### pickle"
   ]
  },
  {
   "cell_type": "code",
   "execution_count": 106,
   "id": "a31e4cc2-371e-400c-b14d-0c9bbfeaf78a",
   "metadata": {},
   "outputs": [],
   "source": [
    "import pickle\n",
    "my_list1 = [\"XiaoJaYu\", \"3.1415926\", \"2.71828\"]\n",
    "pickle_file = open(\"my_file_for_pickle.pkl\", 'wb')\n",
    "pickle.dump(my_list1, pickle_file)\n",
    "pickle_file.close()"
   ]
  },
  {
   "cell_type": "code",
   "execution_count": 107,
   "id": "f763fd0d-2157-4051-a255-ef7429e5a9f5",
   "metadata": {},
   "outputs": [
    {
     "data": {
      "text/plain": [
       "['XiaoJaYu', '3.1415926', '2.71828']"
      ]
     },
     "execution_count": 107,
     "metadata": {},
     "output_type": "execute_result"
    }
   ],
   "source": [
    "pickle_file =  open(\"my_file_for_pickle.pkl\", 'rb+')\n",
    "my_list2= pickle.load(pickle_file)\n",
    "my_list2\n"
   ]
  },
  {
   "cell_type": "markdown",
   "id": "753a1334-1e49-4df4-8d57-0bcd8cc3eb87",
   "metadata": {},
   "source": [
    "##### module\n",
    "\n",
    "###### pycode in the pathpath"
   ]
  },
  {
   "cell_type": "code",
   "execution_count": 108,
   "id": "2dab2b86-ae67-4252-90a8-33613650e4fa",
   "metadata": {},
   "outputs": [
    {
     "name": "stdout",
     "output_type": "stream",
     "text": [
      "[[ 2.  3.  4.  5.  6.  7.  8.  9. 10.]\n",
      " [ 4.  6.  8. 10. 12. 14. 16. 18. 20.]\n",
      " [ 6.  9. 12. 15. 18. 21. 24. 27. 30.]\n",
      " [ 8. 12. 16. 20. 24. 28. 32. 36. 40.]\n",
      " [10. 15. 20. 25. 30. 35. 40. 45. 50.]]\n"
     ]
    }
   ],
   "source": [
    "import ndarray"
   ]
  },
  {
   "cell_type": "code",
   "execution_count": 109,
   "id": "bbfc4dba-39f7-4010-89ba-fe8cb17b4105",
   "metadata": {},
   "outputs": [
    {
     "data": {
      "text/plain": [
       "99"
      ]
     },
     "execution_count": 109,
     "metadata": {},
     "output_type": "execute_result"
    }
   ],
   "source": [
    "ndarray.fun_add(8,9) # module name first"
   ]
  },
  {
   "cell_type": "code",
   "execution_count": 115,
   "id": "e3ef3542-8cb9-4515-b879-bf0ef647be0b",
   "metadata": {},
   "outputs": [],
   "source": [
    "import ndarray as nd"
   ]
  },
  {
   "cell_type": "code",
   "execution_count": 117,
   "id": "bf28372c-07f5-47a1-94e0-33e8e3e86108",
   "metadata": {},
   "outputs": [
    {
     "data": {
      "text/plain": [
       "'ndarray'"
      ]
     },
     "execution_count": 117,
     "metadata": {},
     "output_type": "execute_result"
    }
   ],
   "source": [
    "nd.__name__"
   ]
  },
  {
   "cell_type": "code",
   "execution_count": 118,
   "id": "9f37248e-17e7-4eeb-89d6-0165feeec46f",
   "metadata": {},
   "outputs": [
    {
     "data": {
      "text/plain": [
       "'__main__'"
      ]
     },
     "execution_count": 118,
     "metadata": {},
     "output_type": "execute_result"
    }
   ],
   "source": [
    "__name__"
   ]
  },
  {
   "cell_type": "code",
   "execution_count": 111,
   "id": "b9ad2f07-4ac0-4b7a-8749-b98f0b61931f",
   "metadata": {},
   "outputs": [
    {
     "data": {
      "text/plain": [
       "99"
      ]
     },
     "execution_count": 111,
     "metadata": {},
     "output_type": "execute_result"
    }
   ],
   "source": [
    "nd.fun_add(8,9) # module name first"
   ]
  },
  {
   "cell_type": "code",
   "execution_count": 113,
   "id": "3e21210f-ca4b-4223-9ee8-7bf26a40c37a",
   "metadata": {},
   "outputs": [],
   "source": [
    "from ndarray import fun_add"
   ]
  },
  {
   "cell_type": "code",
   "execution_count": 114,
   "id": "1f5e4cf4-37c6-4fb1-b468-f400934da5a3",
   "metadata": {},
   "outputs": [
    {
     "data": {
      "text/plain": [
       "8989"
      ]
     },
     "execution_count": 114,
     "metadata": {},
     "output_type": "execute_result"
    }
   ],
   "source": [
    "fun_add(88,99) # module name first"
   ]
  },
  {
   "cell_type": "markdown",
   "id": "8d621cc7-ac8f-4262-8cf3-0fb23c8dc7ce",
   "metadata": {},
   "source": [
    "#### search path"
   ]
  },
  {
   "cell_type": "code",
   "execution_count": 1,
   "id": "42e31a5f-6021-43b2-a04a-d95b97a28f66",
   "metadata": {},
   "outputs": [],
   "source": [
    "import sys"
   ]
  },
  {
   "cell_type": "code",
   "execution_count": 2,
   "id": "9f050ca8-4f8c-4b8c-958d-c236d8a5b0f1",
   "metadata": {},
   "outputs": [
    {
     "data": {
      "text/plain": [
       "['C:\\\\Users\\\\zhen-\\\\Documents\\\\Python_Scripts',\n",
       " 'C:\\\\Users\\\\zhen-\\\\anaconda3\\\\python312.zip',\n",
       " 'C:\\\\Users\\\\zhen-\\\\anaconda3\\\\DLLs',\n",
       " 'C:\\\\Users\\\\zhen-\\\\anaconda3\\\\Lib',\n",
       " 'C:\\\\Users\\\\zhen-\\\\anaconda3',\n",
       " '',\n",
       " 'C:\\\\Users\\\\zhen-\\\\anaconda3\\\\Lib\\\\site-packages',\n",
       " 'C:\\\\Users\\\\zhen-\\\\anaconda3\\\\Lib\\\\site-packages\\\\win32',\n",
       " 'C:\\\\Users\\\\zhen-\\\\anaconda3\\\\Lib\\\\site-packages\\\\win32\\\\lib',\n",
       " 'C:\\\\Users\\\\zhen-\\\\anaconda3\\\\Lib\\\\site-packages\\\\Pythonwin']"
      ]
     },
     "execution_count": 2,
     "metadata": {},
     "output_type": "execute_result"
    }
   ],
   "source": [
    "sys.path ###########################################"
   ]
  },
  {
   "cell_type": "code",
   "execution_count": 3,
   "id": "3faf67fd-640f-4a0a-9e45-8c8fdc70116b",
   "metadata": {},
   "outputs": [],
   "source": [
    "# click the directory top addresa bar and  COPY\n",
    "# change \\ to \\\\\n",
    "sys.path.append(\"C:\\\\Users\\\\zhen-\\\\Documents\\\\Python_Scripts\\\\Fish_Spider_code\")"
   ]
  },
  {
   "cell_type": "code",
   "execution_count": 1,
   "id": "d853c4cc-3705-4a54-965a-0c8059c0720f",
   "metadata": {},
   "outputs": [],
   "source": [
    "# click the directory top addresa bar and  COPY\n",
    "# change \\ to \\\\\n",
    "#sys.path.append(\"C:\\\\Users\\\\zhen-\\\\Documents\\\\Python_Scripts\\\\Fish_Spider_code\")\n",
    "sys.path.append(\"C:\\\\Users\\\\zhen-\\\\Documents\\\\Python_Scripts\\\\MyPathonPackage\")"
   ]
  },
  {
   "cell_type": "code",
   "execution_count": null,
   "id": "30d839dc-bbe7-4d60-80a9-59844deb5153",
   "metadata": {},
   "outputs": [],
   "source": [
    "import zhonggu_Jiaoyu"
   ]
  },
  {
   "cell_type": "code",
   "execution_count": null,
   "id": "5b1a926c-607e-4933-a96c-2882b5fcbb9a",
   "metadata": {},
   "outputs": [],
   "source": [
    "sys.path.remove(\"C:\\\\Users\\\\zhen-\\\\Documents\\\\Python_Scripts\\\\Fish_Spider_code\")"
   ]
  },
  {
   "cell_type": "code",
   "execution_count": null,
   "id": "203198d5-1078-48fe-b259-79b83507f6ff",
   "metadata": {},
   "outputs": [],
   "source": [
    "import MyPackage.Zhonggu.zhonggu_Jiaoyu # _init_.py is needed in each directory"
   ]
  },
  {
   "cell_type": "code",
   "execution_count": 2,
   "id": "cc18a25e-494d-47b2-b921-73ba17d4c630",
   "metadata": {},
   "outputs": [],
   "source": [
    "import random"
   ]
  },
  {
   "cell_type": "code",
   "execution_count": 4,
   "id": "18c80df9-d8a9-4b40-a180-4d781b58fecd",
   "metadata": {},
   "outputs": [
    {
     "data": {
      "text/plain": [
       "'Random variable generators.\\n\\n    bytes\\n    -----\\n           uniform bytes (values between 0 and 255)\\n\\n    integers\\n    --------\\n           uniform within range\\n\\n    sequences\\n    ---------\\n           pick random element\\n           pick random sample\\n           pick weighted random sample\\n           generate random permutation\\n\\n    distributions on the real line:\\n    ------------------------------\\n           uniform\\n           triangular\\n           normal (Gaussian)\\n           lognormal\\n           negative exponential\\n           gamma\\n           beta\\n           pareto\\n           Weibull\\n\\n    distributions on the circle (angles 0 to 2pi)\\n    ---------------------------------------------\\n           circular uniform\\n           von Mises\\n\\n    discrete distributions\\n    ----------------------\\n           binomial\\n\\n\\nGeneral notes on the underlying Mersenne Twister core generator:\\n\\n* The period is 2**19937-1.\\n* It is one of the most extensively tested generators in existence.\\n* The random() method is implemented in C, executes in a single Python step,\\n  and is, therefore, threadsafe.\\n\\n'"
      ]
     },
     "execution_count": 4,
     "metadata": {},
     "output_type": "execute_result"
    }
   ],
   "source": [
    "random.__doc__"
   ]
  },
  {
   "cell_type": "code",
   "execution_count": 6,
   "id": "7b0c4009-406b-434d-8421-bf0646af7e7c",
   "metadata": {
    "scrolled": true
   },
   "outputs": [
    {
     "name": "stdout",
     "output_type": "stream",
     "text": [
      "Random variable generators.\n",
      "\n",
      "    bytes\n",
      "    -----\n",
      "           uniform bytes (values between 0 and 255)\n",
      "\n",
      "    integers\n",
      "    --------\n",
      "           uniform within range\n",
      "\n",
      "    sequences\n",
      "    ---------\n",
      "           pick random element\n",
      "           pick random sample\n",
      "           pick weighted random sample\n",
      "           generate random permutation\n",
      "\n",
      "    distributions on the real line:\n",
      "    ------------------------------\n",
      "           uniform\n",
      "           triangular\n",
      "           normal (Gaussian)\n",
      "           lognormal\n",
      "           negative exponential\n",
      "           gamma\n",
      "           beta\n",
      "           pareto\n",
      "           Weibull\n",
      "\n",
      "    distributions on the circle (angles 0 to 2pi)\n",
      "    ---------------------------------------------\n",
      "           circular uniform\n",
      "           von Mises\n",
      "\n",
      "    discrete distributions\n",
      "    ----------------------\n",
      "           binomial\n",
      "\n",
      "\n",
      "General notes on the underlying Mersenne Twister core generator:\n",
      "\n",
      "* The period is 2**19937-1.\n",
      "* It is one of the most extensively tested generators in existence.\n",
      "* The random() method is implemented in C, executes in a single Python step,\n",
      "  and is, therefore, threadsafe.\n",
      "\n",
      "\n"
     ]
    }
   ],
   "source": [
    "print(random.__doc__)"
   ]
  },
  {
   "cell_type": "code",
   "execution_count": 5,
   "id": "d193bd7c-12d2-4411-8ae4-e9838492bc44",
   "metadata": {
    "collapsed": true,
    "jupyter": {
     "outputs_hidden": true
    }
   },
   "outputs": [
    {
     "name": "stdout",
     "output_type": "stream",
     "text": [
      "Help on module random:\n",
      "\n",
      "NAME\n",
      "    random - Random variable generators.\n",
      "\n",
      "MODULE REFERENCE\n",
      "    https://docs.python.org/3.12/library/random.html\n",
      "\n",
      "    The following documentation is automatically generated from the Python\n",
      "    source files.  It may be incomplete, incorrect or include features that\n",
      "    are considered implementation detail and may vary between Python\n",
      "    implementations.  When in doubt, consult the module reference at the\n",
      "    location listed above.\n",
      "\n",
      "DESCRIPTION\n",
      "        bytes\n",
      "        -----\n",
      "               uniform bytes (values between 0 and 255)\n",
      "\n",
      "        integers\n",
      "        --------\n",
      "               uniform within range\n",
      "\n",
      "        sequences\n",
      "        ---------\n",
      "               pick random element\n",
      "               pick random sample\n",
      "               pick weighted random sample\n",
      "               generate random permutation\n",
      "\n",
      "        distributions on the real line:\n",
      "        ------------------------------\n",
      "               uniform\n",
      "               triangular\n",
      "               normal (Gaussian)\n",
      "               lognormal\n",
      "               negative exponential\n",
      "               gamma\n",
      "               beta\n",
      "               pareto\n",
      "               Weibull\n",
      "\n",
      "        distributions on the circle (angles 0 to 2pi)\n",
      "        ---------------------------------------------\n",
      "               circular uniform\n",
      "               von Mises\n",
      "\n",
      "        discrete distributions\n",
      "        ----------------------\n",
      "               binomial\n",
      "\n",
      "\n",
      "    General notes on the underlying Mersenne Twister core generator:\n",
      "\n",
      "    * The period is 2**19937-1.\n",
      "    * It is one of the most extensively tested generators in existence.\n",
      "    * The random() method is implemented in C, executes in a single Python step,\n",
      "      and is, therefore, threadsafe.\n",
      "\n",
      "CLASSES\n",
      "    _random.Random(builtins.object)\n",
      "        Random\n",
      "            SystemRandom\n",
      "\n",
      "    class Random(_random.Random)\n",
      "     |  Random(x=None)\n",
      "     |\n",
      "     |  Random number generator base class used by bound module functions.\n",
      "     |\n",
      "     |  Used to instantiate instances of Random to get generators that don't\n",
      "     |  share state.\n",
      "     |\n",
      "     |  Class Random can also be subclassed if you want to use a different basic\n",
      "     |  generator of your own devising: in that case, override the following\n",
      "     |  methods:  random(), seed(), getstate(), and setstate().\n",
      "     |  Optionally, implement a getrandbits() method so that randrange()\n",
      "     |  can cover arbitrarily large ranges.\n",
      "     |\n",
      "     |  Method resolution order:\n",
      "     |      Random\n",
      "     |      _random.Random\n",
      "     |      builtins.object\n",
      "     |\n",
      "     |  Methods defined here:\n",
      "     |\n",
      "     |  __getstate__(self)\n",
      "     |      Helper for pickle.\n",
      "     |\n",
      "     |  __init__(self, x=None)\n",
      "     |      Initialize an instance.\n",
      "     |\n",
      "     |      Optional argument x controls seeding, as for Random.seed().\n",
      "     |\n",
      "     |  __reduce__(self)\n",
      "     |      Helper for pickle.\n",
      "     |\n",
      "     |  __setstate__(self, state)\n",
      "     |\n",
      "     |  betavariate(self, alpha, beta)\n",
      "     |      Beta distribution.\n",
      "     |\n",
      "     |      Conditions on the parameters are alpha > 0 and beta > 0.\n",
      "     |      Returned values range between 0 and 1.\n",
      "     |\n",
      "     |      The mean (expected value) and variance of the random variable are:\n",
      "     |\n",
      "     |          E[X] = alpha / (alpha + beta)\n",
      "     |          Var[X] = alpha * beta / ((alpha + beta)**2 * (alpha + beta + 1))\n",
      "     |\n",
      "     |  binomialvariate(self, n=1, p=0.5)\n",
      "     |      Binomial random variable.\n",
      "     |\n",
      "     |      Gives the number of successes for *n* independent trials\n",
      "     |      with the probability of success in each trial being *p*:\n",
      "     |\n",
      "     |          sum(random() < p for i in range(n))\n",
      "     |\n",
      "     |      Returns an integer in the range:   0 <= X <= n\n",
      "     |\n",
      "     |      The mean (expected value) and variance of the random variable are:\n",
      "     |\n",
      "     |          E[X] = n * p\n",
      "     |          Var[x] = n * p * (1 - p)\n",
      "     |\n",
      "     |  choice(self, seq)\n",
      "     |      Choose a random element from a non-empty sequence.\n",
      "     |\n",
      "     |  choices(self, population, weights=None, *, cum_weights=None, k=1)\n",
      "     |      Return a k sized list of population elements chosen with replacement.\n",
      "     |\n",
      "     |      If the relative weights or cumulative weights are not specified,\n",
      "     |      the selections are made with equal probability.\n",
      "     |\n",
      "     |  expovariate(self, lambd=1.0)\n",
      "     |      Exponential distribution.\n",
      "     |\n",
      "     |      lambd is 1.0 divided by the desired mean.  It should be\n",
      "     |      nonzero.  (The parameter would be called \"lambda\", but that is\n",
      "     |      a reserved word in Python.)  Returned values range from 0 to\n",
      "     |      positive infinity if lambd is positive, and from negative\n",
      "     |      infinity to 0 if lambd is negative.\n",
      "     |\n",
      "     |      The mean (expected value) and variance of the random variable are:\n",
      "     |\n",
      "     |          E[X] = 1 / lambd\n",
      "     |          Var[X] = 1 / lambd ** 2\n",
      "     |\n",
      "     |  gammavariate(self, alpha, beta)\n",
      "     |      Gamma distribution.  Not the gamma function!\n",
      "     |\n",
      "     |      Conditions on the parameters are alpha > 0 and beta > 0.\n",
      "     |\n",
      "     |      The probability distribution function is:\n",
      "     |\n",
      "     |                  x ** (alpha - 1) * math.exp(-x / beta)\n",
      "     |        pdf(x) =  --------------------------------------\n",
      "     |                    math.gamma(alpha) * beta ** alpha\n",
      "     |\n",
      "     |      The mean (expected value) and variance of the random variable are:\n",
      "     |\n",
      "     |          E[X] = alpha * beta\n",
      "     |          Var[X] = alpha * beta ** 2\n",
      "     |\n",
      "     |  gauss(self, mu=0.0, sigma=1.0)\n",
      "     |      Gaussian distribution.\n",
      "     |\n",
      "     |      mu is the mean, and sigma is the standard deviation.  This is\n",
      "     |      slightly faster than the normalvariate() function.\n",
      "     |\n",
      "     |      Not thread-safe without a lock around calls.\n",
      "     |\n",
      "     |  getstate(self)\n",
      "     |      Return internal state; can be passed to setstate() later.\n",
      "     |\n",
      "     |  lognormvariate(self, mu, sigma)\n",
      "     |      Log normal distribution.\n",
      "     |\n",
      "     |      If you take the natural logarithm of this distribution, you'll get a\n",
      "     |      normal distribution with mean mu and standard deviation sigma.\n",
      "     |      mu can have any value, and sigma must be greater than zero.\n",
      "     |\n",
      "     |  normalvariate(self, mu=0.0, sigma=1.0)\n",
      "     |      Normal distribution.\n",
      "     |\n",
      "     |      mu is the mean, and sigma is the standard deviation.\n",
      "     |\n",
      "     |  paretovariate(self, alpha)\n",
      "     |      Pareto distribution.  alpha is the shape parameter.\n",
      "     |\n",
      "     |  randbytes(self, n)\n",
      "     |      Generate n random bytes.\n",
      "     |\n",
      "     |  randint(self, a, b)\n",
      "     |      Return random integer in range [a, b], including both end points.\n",
      "     |\n",
      "     |  randrange(self, start, stop=None, step=1)\n",
      "     |      Choose a random item from range(stop) or range(start, stop[, step]).\n",
      "     |\n",
      "     |      Roughly equivalent to ``choice(range(start, stop, step))`` but\n",
      "     |      supports arbitrarily large ranges and is optimized for common cases.\n",
      "     |\n",
      "     |  sample(self, population, k, *, counts=None)\n",
      "     |      Chooses k unique random elements from a population sequence.\n",
      "     |\n",
      "     |      Returns a new list containing elements from the population while\n",
      "     |      leaving the original population unchanged.  The resulting list is\n",
      "     |      in selection order so that all sub-slices will also be valid random\n",
      "     |      samples.  This allows raffle winners (the sample) to be partitioned\n",
      "     |      into grand prize and second place winners (the subslices).\n",
      "     |\n",
      "     |      Members of the population need not be hashable or unique.  If the\n",
      "     |      population contains repeats, then each occurrence is a possible\n",
      "     |      selection in the sample.\n",
      "     |\n",
      "     |      Repeated elements can be specified one at a time or with the optional\n",
      "     |      counts parameter.  For example:\n",
      "     |\n",
      "     |          sample(['red', 'blue'], counts=[4, 2], k=5)\n",
      "     |\n",
      "     |      is equivalent to:\n",
      "     |\n",
      "     |          sample(['red', 'red', 'red', 'red', 'blue', 'blue'], k=5)\n",
      "     |\n",
      "     |      To choose a sample from a range of integers, use range() for the\n",
      "     |      population argument.  This is especially fast and space efficient\n",
      "     |      for sampling from a large population:\n",
      "     |\n",
      "     |          sample(range(10000000), 60)\n",
      "     |\n",
      "     |  seed(self, a=None, version=2)\n",
      "     |      Initialize internal state from a seed.\n",
      "     |\n",
      "     |      The only supported seed types are None, int, float,\n",
      "     |      str, bytes, and bytearray.\n",
      "     |\n",
      "     |      None or no argument seeds from current time or from an operating\n",
      "     |      system specific randomness source if available.\n",
      "     |\n",
      "     |      If *a* is an int, all bits are used.\n",
      "     |\n",
      "     |      For version 2 (the default), all of the bits are used if *a* is a str,\n",
      "     |      bytes, or bytearray.  For version 1 (provided for reproducing random\n",
      "     |      sequences from older versions of Python), the algorithm for str and\n",
      "     |      bytes generates a narrower range of seeds.\n",
      "     |\n",
      "     |  setstate(self, state)\n",
      "     |      Restore internal state from object returned by getstate().\n",
      "     |\n",
      "     |  shuffle(self, x)\n",
      "     |      Shuffle list x in place, and return None.\n",
      "     |\n",
      "     |  triangular(self, low=0.0, high=1.0, mode=None)\n",
      "     |      Triangular distribution.\n",
      "     |\n",
      "     |      Continuous distribution bounded by given lower and upper limits,\n",
      "     |      and having a given mode value in-between.\n",
      "     |\n",
      "     |      http://en.wikipedia.org/wiki/Triangular_distribution\n",
      "     |\n",
      "     |      The mean (expected value) and variance of the random variable are:\n",
      "     |\n",
      "     |          E[X] = (low + high + mode) / 3\n",
      "     |          Var[X] = (low**2 + high**2 + mode**2 - low*high - low*mode - high*mode) / 18\n",
      "     |\n",
      "     |  uniform(self, a, b)\n",
      "     |      Get a random number in the range [a, b) or [a, b] depending on rounding.\n",
      "     |\n",
      "     |      The mean (expected value) and variance of the random variable are:\n",
      "     |\n",
      "     |          E[X] = (a + b) / 2\n",
      "     |          Var[X] = (b - a) ** 2 / 12\n",
      "     |\n",
      "     |  vonmisesvariate(self, mu, kappa)\n",
      "     |      Circular data distribution.\n",
      "     |\n",
      "     |      mu is the mean angle, expressed in radians between 0 and 2*pi, and\n",
      "     |      kappa is the concentration parameter, which must be greater than or\n",
      "     |      equal to zero.  If kappa is equal to zero, this distribution reduces\n",
      "     |      to a uniform random angle over the range 0 to 2*pi.\n",
      "     |\n",
      "     |  weibullvariate(self, alpha, beta)\n",
      "     |      Weibull distribution.\n",
      "     |\n",
      "     |      alpha is the scale parameter and beta is the shape parameter.\n",
      "     |\n",
      "     |  ----------------------------------------------------------------------\n",
      "     |  Class methods defined here:\n",
      "     |\n",
      "     |  __init_subclass__(**kwargs)\n",
      "     |      Control how subclasses generate random integers.\n",
      "     |\n",
      "     |      The algorithm a subclass can use depends on the random() and/or\n",
      "     |      getrandbits() implementation available to it and determines\n",
      "     |      whether it can generate random integers from arbitrarily large\n",
      "     |      ranges.\n",
      "     |\n",
      "     |  ----------------------------------------------------------------------\n",
      "     |  Data descriptors defined here:\n",
      "     |\n",
      "     |  __dict__\n",
      "     |      dictionary for instance variables\n",
      "     |\n",
      "     |  __weakref__\n",
      "     |      list of weak references to the object\n",
      "     |\n",
      "     |  ----------------------------------------------------------------------\n",
      "     |  Data and other attributes defined here:\n",
      "     |\n",
      "     |  VERSION = 3\n",
      "     |\n",
      "     |  ----------------------------------------------------------------------\n",
      "     |  Methods inherited from _random.Random:\n",
      "     |\n",
      "     |  getrandbits(self, k, /)\n",
      "     |      getrandbits(k) -> x.  Generates an int with k random bits.\n",
      "     |\n",
      "     |  random(self, /)\n",
      "     |      random() -> x in the interval [0, 1).\n",
      "     |\n",
      "     |  ----------------------------------------------------------------------\n",
      "     |  Static methods inherited from _random.Random:\n",
      "     |\n",
      "     |  __new__(*args, **kwargs) class method of _random.Random\n",
      "     |      Create and return a new object.  See help(type) for accurate signature.\n",
      "\n",
      "    class SystemRandom(Random)\n",
      "     |  SystemRandom(x=None)\n",
      "     |\n",
      "     |  Alternate random number generator using sources provided\n",
      "     |  by the operating system (such as /dev/urandom on Unix or\n",
      "     |  CryptGenRandom on Windows).\n",
      "     |\n",
      "     |   Not available on all systems (see os.urandom() for details).\n",
      "     |\n",
      "     |  Method resolution order:\n",
      "     |      SystemRandom\n",
      "     |      Random\n",
      "     |      _random.Random\n",
      "     |      builtins.object\n",
      "     |\n",
      "     |  Methods defined here:\n",
      "     |\n",
      "     |  getrandbits(self, k)\n",
      "     |      getrandbits(k) -> x.  Generates an int with k random bits.\n",
      "     |\n",
      "     |  getstate = _notimplemented(self, *args, **kwds)\n",
      "     |\n",
      "     |  randbytes(self, n)\n",
      "     |      Generate n random bytes.\n",
      "     |\n",
      "     |  random(self)\n",
      "     |      Get the next random number in the range 0.0 <= X < 1.0.\n",
      "     |\n",
      "     |  seed(self, *args, **kwds)\n",
      "     |      Stub method.  Not used for a system random number generator.\n",
      "     |\n",
      "     |  setstate = _notimplemented(self, *args, **kwds)\n",
      "     |\n",
      "     |  ----------------------------------------------------------------------\n",
      "     |  Methods inherited from Random:\n",
      "     |\n",
      "     |  __getstate__(self)\n",
      "     |      Helper for pickle.\n",
      "     |\n",
      "     |  __init__(self, x=None)\n",
      "     |      Initialize an instance.\n",
      "     |\n",
      "     |      Optional argument x controls seeding, as for Random.seed().\n",
      "     |\n",
      "     |  __reduce__(self)\n",
      "     |      Helper for pickle.\n",
      "     |\n",
      "     |  __setstate__(self, state)\n",
      "     |\n",
      "     |  betavariate(self, alpha, beta)\n",
      "     |      Beta distribution.\n",
      "     |\n",
      "     |      Conditions on the parameters are alpha > 0 and beta > 0.\n",
      "     |      Returned values range between 0 and 1.\n",
      "     |\n",
      "     |      The mean (expected value) and variance of the random variable are:\n",
      "     |\n",
      "     |          E[X] = alpha / (alpha + beta)\n",
      "     |          Var[X] = alpha * beta / ((alpha + beta)**2 * (alpha + beta + 1))\n",
      "     |\n",
      "     |  binomialvariate(self, n=1, p=0.5)\n",
      "     |      Binomial random variable.\n",
      "     |\n",
      "     |      Gives the number of successes for *n* independent trials\n",
      "     |      with the probability of success in each trial being *p*:\n",
      "     |\n",
      "     |          sum(random() < p for i in range(n))\n",
      "     |\n",
      "     |      Returns an integer in the range:   0 <= X <= n\n",
      "     |\n",
      "     |      The mean (expected value) and variance of the random variable are:\n",
      "     |\n",
      "     |          E[X] = n * p\n",
      "     |          Var[x] = n * p * (1 - p)\n",
      "     |\n",
      "     |  choice(self, seq)\n",
      "     |      Choose a random element from a non-empty sequence.\n",
      "     |\n",
      "     |  choices(self, population, weights=None, *, cum_weights=None, k=1)\n",
      "     |      Return a k sized list of population elements chosen with replacement.\n",
      "     |\n",
      "     |      If the relative weights or cumulative weights are not specified,\n",
      "     |      the selections are made with equal probability.\n",
      "     |\n",
      "     |  expovariate(self, lambd=1.0)\n",
      "     |      Exponential distribution.\n",
      "     |\n",
      "     |      lambd is 1.0 divided by the desired mean.  It should be\n",
      "     |      nonzero.  (The parameter would be called \"lambda\", but that is\n",
      "     |      a reserved word in Python.)  Returned values range from 0 to\n",
      "     |      positive infinity if lambd is positive, and from negative\n",
      "     |      infinity to 0 if lambd is negative.\n",
      "     |\n",
      "     |      The mean (expected value) and variance of the random variable are:\n",
      "     |\n",
      "     |          E[X] = 1 / lambd\n",
      "     |          Var[X] = 1 / lambd ** 2\n",
      "     |\n",
      "     |  gammavariate(self, alpha, beta)\n",
      "     |      Gamma distribution.  Not the gamma function!\n",
      "     |\n",
      "     |      Conditions on the parameters are alpha > 0 and beta > 0.\n",
      "     |\n",
      "     |      The probability distribution function is:\n",
      "     |\n",
      "     |                  x ** (alpha - 1) * math.exp(-x / beta)\n",
      "     |        pdf(x) =  --------------------------------------\n",
      "     |                    math.gamma(alpha) * beta ** alpha\n",
      "     |\n",
      "     |      The mean (expected value) and variance of the random variable are:\n",
      "     |\n",
      "     |          E[X] = alpha * beta\n",
      "     |          Var[X] = alpha * beta ** 2\n",
      "     |\n",
      "     |  gauss(self, mu=0.0, sigma=1.0)\n",
      "     |      Gaussian distribution.\n",
      "     |\n",
      "     |      mu is the mean, and sigma is the standard deviation.  This is\n",
      "     |      slightly faster than the normalvariate() function.\n",
      "     |\n",
      "     |      Not thread-safe without a lock around calls.\n",
      "     |\n",
      "     |  lognormvariate(self, mu, sigma)\n",
      "     |      Log normal distribution.\n",
      "     |\n",
      "     |      If you take the natural logarithm of this distribution, you'll get a\n",
      "     |      normal distribution with mean mu and standard deviation sigma.\n",
      "     |      mu can have any value, and sigma must be greater than zero.\n",
      "     |\n",
      "     |  normalvariate(self, mu=0.0, sigma=1.0)\n",
      "     |      Normal distribution.\n",
      "     |\n",
      "     |      mu is the mean, and sigma is the standard deviation.\n",
      "     |\n",
      "     |  paretovariate(self, alpha)\n",
      "     |      Pareto distribution.  alpha is the shape parameter.\n",
      "     |\n",
      "     |  randint(self, a, b)\n",
      "     |      Return random integer in range [a, b], including both end points.\n",
      "     |\n",
      "     |  randrange(self, start, stop=None, step=1)\n",
      "     |      Choose a random item from range(stop) or range(start, stop[, step]).\n",
      "     |\n",
      "     |      Roughly equivalent to ``choice(range(start, stop, step))`` but\n",
      "     |      supports arbitrarily large ranges and is optimized for common cases.\n",
      "     |\n",
      "     |  sample(self, population, k, *, counts=None)\n",
      "     |      Chooses k unique random elements from a population sequence.\n",
      "     |\n",
      "     |      Returns a new list containing elements from the population while\n",
      "     |      leaving the original population unchanged.  The resulting list is\n",
      "     |      in selection order so that all sub-slices will also be valid random\n",
      "     |      samples.  This allows raffle winners (the sample) to be partitioned\n",
      "     |      into grand prize and second place winners (the subslices).\n",
      "     |\n",
      "     |      Members of the population need not be hashable or unique.  If the\n",
      "     |      population contains repeats, then each occurrence is a possible\n",
      "     |      selection in the sample.\n",
      "     |\n",
      "     |      Repeated elements can be specified one at a time or with the optional\n",
      "     |      counts parameter.  For example:\n",
      "     |\n",
      "     |          sample(['red', 'blue'], counts=[4, 2], k=5)\n",
      "     |\n",
      "     |      is equivalent to:\n",
      "     |\n",
      "     |          sample(['red', 'red', 'red', 'red', 'blue', 'blue'], k=5)\n",
      "     |\n",
      "     |      To choose a sample from a range of integers, use range() for the\n",
      "     |      population argument.  This is especially fast and space efficient\n",
      "     |      for sampling from a large population:\n",
      "     |\n",
      "     |          sample(range(10000000), 60)\n",
      "     |\n",
      "     |  shuffle(self, x)\n",
      "     |      Shuffle list x in place, and return None.\n",
      "     |\n",
      "     |  triangular(self, low=0.0, high=1.0, mode=None)\n",
      "     |      Triangular distribution.\n",
      "     |\n",
      "     |      Continuous distribution bounded by given lower and upper limits,\n",
      "     |      and having a given mode value in-between.\n",
      "     |\n",
      "     |      http://en.wikipedia.org/wiki/Triangular_distribution\n",
      "     |\n",
      "     |      The mean (expected value) and variance of the random variable are:\n",
      "     |\n",
      "     |          E[X] = (low + high + mode) / 3\n",
      "     |          Var[X] = (low**2 + high**2 + mode**2 - low*high - low*mode - high*mode) / 18\n",
      "     |\n",
      "     |  uniform(self, a, b)\n",
      "     |      Get a random number in the range [a, b) or [a, b] depending on rounding.\n",
      "     |\n",
      "     |      The mean (expected value) and variance of the random variable are:\n",
      "     |\n",
      "     |          E[X] = (a + b) / 2\n",
      "     |          Var[X] = (b - a) ** 2 / 12\n",
      "     |\n",
      "     |  vonmisesvariate(self, mu, kappa)\n",
      "     |      Circular data distribution.\n",
      "     |\n",
      "     |      mu is the mean angle, expressed in radians between 0 and 2*pi, and\n",
      "     |      kappa is the concentration parameter, which must be greater than or\n",
      "     |      equal to zero.  If kappa is equal to zero, this distribution reduces\n",
      "     |      to a uniform random angle over the range 0 to 2*pi.\n",
      "     |\n",
      "     |  weibullvariate(self, alpha, beta)\n",
      "     |      Weibull distribution.\n",
      "     |\n",
      "     |      alpha is the scale parameter and beta is the shape parameter.\n",
      "     |\n",
      "     |  ----------------------------------------------------------------------\n",
      "     |  Class methods inherited from Random:\n",
      "     |\n",
      "     |  __init_subclass__(**kwargs)\n",
      "     |      Control how subclasses generate random integers.\n",
      "     |\n",
      "     |      The algorithm a subclass can use depends on the random() and/or\n",
      "     |      getrandbits() implementation available to it and determines\n",
      "     |      whether it can generate random integers from arbitrarily large\n",
      "     |      ranges.\n",
      "     |\n",
      "     |  ----------------------------------------------------------------------\n",
      "     |  Data descriptors inherited from Random:\n",
      "     |\n",
      "     |  __dict__\n",
      "     |      dictionary for instance variables\n",
      "     |\n",
      "     |  __weakref__\n",
      "     |      list of weak references to the object\n",
      "     |\n",
      "     |  ----------------------------------------------------------------------\n",
      "     |  Data and other attributes inherited from Random:\n",
      "     |\n",
      "     |  VERSION = 3\n",
      "     |\n",
      "     |  ----------------------------------------------------------------------\n",
      "     |  Static methods inherited from _random.Random:\n",
      "     |\n",
      "     |  __new__(*args, **kwargs) class method of _random.Random\n",
      "     |      Create and return a new object.  See help(type) for accurate signature.\n",
      "\n",
      "FUNCTIONS\n",
      "    betavariate(alpha, beta) method of Random instance\n",
      "        Beta distribution.\n",
      "\n",
      "        Conditions on the parameters are alpha > 0 and beta > 0.\n",
      "        Returned values range between 0 and 1.\n",
      "\n",
      "        The mean (expected value) and variance of the random variable are:\n",
      "\n",
      "            E[X] = alpha / (alpha + beta)\n",
      "            Var[X] = alpha * beta / ((alpha + beta)**2 * (alpha + beta + 1))\n",
      "\n",
      "    binomialvariate(n=1, p=0.5) method of Random instance\n",
      "        Binomial random variable.\n",
      "\n",
      "        Gives the number of successes for *n* independent trials\n",
      "        with the probability of success in each trial being *p*:\n",
      "\n",
      "            sum(random() < p for i in range(n))\n",
      "\n",
      "        Returns an integer in the range:   0 <= X <= n\n",
      "\n",
      "        The mean (expected value) and variance of the random variable are:\n",
      "\n",
      "            E[X] = n * p\n",
      "            Var[x] = n * p * (1 - p)\n",
      "\n",
      "    choice(seq) method of Random instance\n",
      "        Choose a random element from a non-empty sequence.\n",
      "\n",
      "    choices(population, weights=None, *, cum_weights=None, k=1) method of Random instance\n",
      "        Return a k sized list of population elements chosen with replacement.\n",
      "\n",
      "        If the relative weights or cumulative weights are not specified,\n",
      "        the selections are made with equal probability.\n",
      "\n",
      "    expovariate(lambd=1.0) method of Random instance\n",
      "        Exponential distribution.\n",
      "\n",
      "        lambd is 1.0 divided by the desired mean.  It should be\n",
      "        nonzero.  (The parameter would be called \"lambda\", but that is\n",
      "        a reserved word in Python.)  Returned values range from 0 to\n",
      "        positive infinity if lambd is positive, and from negative\n",
      "        infinity to 0 if lambd is negative.\n",
      "\n",
      "        The mean (expected value) and variance of the random variable are:\n",
      "\n",
      "            E[X] = 1 / lambd\n",
      "            Var[X] = 1 / lambd ** 2\n",
      "\n",
      "    gammavariate(alpha, beta) method of Random instance\n",
      "        Gamma distribution.  Not the gamma function!\n",
      "\n",
      "        Conditions on the parameters are alpha > 0 and beta > 0.\n",
      "\n",
      "        The probability distribution function is:\n",
      "\n",
      "                    x ** (alpha - 1) * math.exp(-x / beta)\n",
      "          pdf(x) =  --------------------------------------\n",
      "                      math.gamma(alpha) * beta ** alpha\n",
      "\n",
      "        The mean (expected value) and variance of the random variable are:\n",
      "\n",
      "            E[X] = alpha * beta\n",
      "            Var[X] = alpha * beta ** 2\n",
      "\n",
      "    gauss(mu=0.0, sigma=1.0) method of Random instance\n",
      "        Gaussian distribution.\n",
      "\n",
      "        mu is the mean, and sigma is the standard deviation.  This is\n",
      "        slightly faster than the normalvariate() function.\n",
      "\n",
      "        Not thread-safe without a lock around calls.\n",
      "\n",
      "    getrandbits(k, /) method of Random instance\n",
      "        getrandbits(k) -> x.  Generates an int with k random bits.\n",
      "\n",
      "    getstate() method of Random instance\n",
      "        Return internal state; can be passed to setstate() later.\n",
      "\n",
      "    lognormvariate(mu, sigma) method of Random instance\n",
      "        Log normal distribution.\n",
      "\n",
      "        If you take the natural logarithm of this distribution, you'll get a\n",
      "        normal distribution with mean mu and standard deviation sigma.\n",
      "        mu can have any value, and sigma must be greater than zero.\n",
      "\n",
      "    normalvariate(mu=0.0, sigma=1.0) method of Random instance\n",
      "        Normal distribution.\n",
      "\n",
      "        mu is the mean, and sigma is the standard deviation.\n",
      "\n",
      "    paretovariate(alpha) method of Random instance\n",
      "        Pareto distribution.  alpha is the shape parameter.\n",
      "\n",
      "    randbytes(n) method of Random instance\n",
      "        Generate n random bytes.\n",
      "\n",
      "    randint(a, b) method of Random instance\n",
      "        Return random integer in range [a, b], including both end points.\n",
      "\n",
      "    random() method of Random instance\n",
      "        random() -> x in the interval [0, 1).\n",
      "\n",
      "    randrange(start, stop=None, step=1) method of Random instance\n",
      "        Choose a random item from range(stop) or range(start, stop[, step]).\n",
      "\n",
      "        Roughly equivalent to ``choice(range(start, stop, step))`` but\n",
      "        supports arbitrarily large ranges and is optimized for common cases.\n",
      "\n",
      "    sample(population, k, *, counts=None) method of Random instance\n",
      "        Chooses k unique random elements from a population sequence.\n",
      "\n",
      "        Returns a new list containing elements from the population while\n",
      "        leaving the original population unchanged.  The resulting list is\n",
      "        in selection order so that all sub-slices will also be valid random\n",
      "        samples.  This allows raffle winners (the sample) to be partitioned\n",
      "        into grand prize and second place winners (the subslices).\n",
      "\n",
      "        Members of the population need not be hashable or unique.  If the\n",
      "        population contains repeats, then each occurrence is a possible\n",
      "        selection in the sample.\n",
      "\n",
      "        Repeated elements can be specified one at a time or with the optional\n",
      "        counts parameter.  For example:\n",
      "\n",
      "            sample(['red', 'blue'], counts=[4, 2], k=5)\n",
      "\n",
      "        is equivalent to:\n",
      "\n",
      "            sample(['red', 'red', 'red', 'red', 'blue', 'blue'], k=5)\n",
      "\n",
      "        To choose a sample from a range of integers, use range() for the\n",
      "        population argument.  This is especially fast and space efficient\n",
      "        for sampling from a large population:\n",
      "\n",
      "            sample(range(10000000), 60)\n",
      "\n",
      "    seed(a=None, version=2) method of Random instance\n",
      "        Initialize internal state from a seed.\n",
      "\n",
      "        The only supported seed types are None, int, float,\n",
      "        str, bytes, and bytearray.\n",
      "\n",
      "        None or no argument seeds from current time or from an operating\n",
      "        system specific randomness source if available.\n",
      "\n",
      "        If *a* is an int, all bits are used.\n",
      "\n",
      "        For version 2 (the default), all of the bits are used if *a* is a str,\n",
      "        bytes, or bytearray.  For version 1 (provided for reproducing random\n",
      "        sequences from older versions of Python), the algorithm for str and\n",
      "        bytes generates a narrower range of seeds.\n",
      "\n",
      "    setstate(state) method of Random instance\n",
      "        Restore internal state from object returned by getstate().\n",
      "\n",
      "    shuffle(x) method of Random instance\n",
      "        Shuffle list x in place, and return None.\n",
      "\n",
      "    triangular(low=0.0, high=1.0, mode=None) method of Random instance\n",
      "        Triangular distribution.\n",
      "\n",
      "        Continuous distribution bounded by given lower and upper limits,\n",
      "        and having a given mode value in-between.\n",
      "\n",
      "        http://en.wikipedia.org/wiki/Triangular_distribution\n",
      "\n",
      "        The mean (expected value) and variance of the random variable are:\n",
      "\n",
      "            E[X] = (low + high + mode) / 3\n",
      "            Var[X] = (low**2 + high**2 + mode**2 - low*high - low*mode - high*mode) / 18\n",
      "\n",
      "    uniform(a, b) method of Random instance\n",
      "        Get a random number in the range [a, b) or [a, b] depending on rounding.\n",
      "\n",
      "        The mean (expected value) and variance of the random variable are:\n",
      "\n",
      "            E[X] = (a + b) / 2\n",
      "            Var[X] = (b - a) ** 2 / 12\n",
      "\n",
      "    vonmisesvariate(mu, kappa) method of Random instance\n",
      "        Circular data distribution.\n",
      "\n",
      "        mu is the mean angle, expressed in radians between 0 and 2*pi, and\n",
      "        kappa is the concentration parameter, which must be greater than or\n",
      "        equal to zero.  If kappa is equal to zero, this distribution reduces\n",
      "        to a uniform random angle over the range 0 to 2*pi.\n",
      "\n",
      "    weibullvariate(alpha, beta) method of Random instance\n",
      "        Weibull distribution.\n",
      "\n",
      "        alpha is the scale parameter and beta is the shape parameter.\n",
      "\n",
      "DATA\n",
      "    __all__ = ['Random', 'SystemRandom', 'betavariate', 'binomialvariate',...\n",
      "\n",
      "FILE\n",
      "    c:\\users\\zhen-\\anaconda3\\lib\\random.py\n",
      "\n",
      "\n"
     ]
    }
   ],
   "source": [
    "help(random)"
   ]
  },
  {
   "cell_type": "code",
   "execution_count": 7,
   "id": "cbb39d13-4345-475f-aa8f-614b8d6059b4",
   "metadata": {
    "collapsed": true,
    "jupyter": {
     "outputs_hidden": true
    }
   },
   "outputs": [
    {
     "data": {
      "text/plain": [
       "['BPF',\n",
       " 'LOG4',\n",
       " 'NV_MAGICCONST',\n",
       " 'RECIP_BPF',\n",
       " 'Random',\n",
       " 'SG_MAGICCONST',\n",
       " 'SystemRandom',\n",
       " 'TWOPI',\n",
       " '_ONE',\n",
       " '_Sequence',\n",
       " '__all__',\n",
       " '__builtins__',\n",
       " '__cached__',\n",
       " '__doc__',\n",
       " '__file__',\n",
       " '__loader__',\n",
       " '__name__',\n",
       " '__package__',\n",
       " '__spec__',\n",
       " '_accumulate',\n",
       " '_acos',\n",
       " '_bisect',\n",
       " '_ceil',\n",
       " '_cos',\n",
       " '_e',\n",
       " '_exp',\n",
       " '_fabs',\n",
       " '_floor',\n",
       " '_index',\n",
       " '_inst',\n",
       " '_isfinite',\n",
       " '_lgamma',\n",
       " '_log',\n",
       " '_log2',\n",
       " '_os',\n",
       " '_pi',\n",
       " '_random',\n",
       " '_repeat',\n",
       " '_sha512',\n",
       " '_sin',\n",
       " '_sqrt',\n",
       " '_test',\n",
       " '_test_generator',\n",
       " '_urandom',\n",
       " '_warn',\n",
       " 'betavariate',\n",
       " 'binomialvariate',\n",
       " 'choice',\n",
       " 'choices',\n",
       " 'expovariate',\n",
       " 'gammavariate',\n",
       " 'gauss',\n",
       " 'getrandbits',\n",
       " 'getstate',\n",
       " 'lognormvariate',\n",
       " 'normalvariate',\n",
       " 'paretovariate',\n",
       " 'randbytes',\n",
       " 'randint',\n",
       " 'random',\n",
       " 'randrange',\n",
       " 'sample',\n",
       " 'seed',\n",
       " 'setstate',\n",
       " 'shuffle',\n",
       " 'triangular',\n",
       " 'uniform',\n",
       " 'vonmisesvariate',\n",
       " 'weibullvariate']"
      ]
     },
     "execution_count": 7,
     "metadata": {},
     "output_type": "execute_result"
    }
   ],
   "source": [
    "dir(random) # show the method in modules"
   ]
  },
  {
   "cell_type": "code",
   "execution_count": 8,
   "id": "e8009793-018b-456e-a50c-f5a2fda2f8fe",
   "metadata": {
    "collapsed": true,
    "jupyter": {
     "outputs_hidden": true
    }
   },
   "outputs": [
    {
     "data": {
      "text/plain": [
       "['Random',\n",
       " 'SystemRandom',\n",
       " 'betavariate',\n",
       " 'binomialvariate',\n",
       " 'choice',\n",
       " 'choices',\n",
       " 'expovariate',\n",
       " 'gammavariate',\n",
       " 'gauss',\n",
       " 'getrandbits',\n",
       " 'getstate',\n",
       " 'lognormvariate',\n",
       " 'normalvariate',\n",
       " 'paretovariate',\n",
       " 'randbytes',\n",
       " 'randint',\n",
       " 'random',\n",
       " 'randrange',\n",
       " 'sample',\n",
       " 'seed',\n",
       " 'setstate',\n",
       " 'shuffle',\n",
       " 'triangular',\n",
       " 'uniform',\n",
       " 'vonmisesvariate',\n",
       " 'weibullvariate']"
      ]
     },
     "execution_count": 8,
     "metadata": {},
     "output_type": "execute_result"
    }
   ],
   "source": [
    "random.__all__ # callable method  from random import *  for the folling method"
   ]
  },
  {
   "cell_type": "code",
   "execution_count": 9,
   "id": "0c0a25c3-2b3c-4359-ae97-cf0bed6e3fd9",
   "metadata": {},
   "outputs": [
    {
     "data": {
      "text/plain": [
       "'C:\\\\Users\\\\zhen-\\\\anaconda3\\\\Lib\\\\random.py'"
      ]
     },
     "execution_count": 9,
     "metadata": {},
     "output_type": "execute_result"
    }
   ],
   "source": [
    "random.__file__ # code location for the module"
   ]
  },
  {
   "cell_type": "code",
   "execution_count": null,
   "id": "5d571277-6042-4f3f-a65f-2c1e05995245",
   "metadata": {},
   "outputs": [],
   "source": [
    "# %load C:/Users/zhen-/Documents/Python_Scripts/Fish_Spider_code/real_python_code1.py\n",
    "# https://realpython.com/python-web-scraping-practical-introduction/\n",
    "from urllib.request import urlopen\n",
    "\n",
    "#url = \"http://olympus.realpython.org/profiles/aphrodite\"\n",
    "url = \"http://olympus.realpython.org/profiles/aphrodite\"\n",
    "page = urlopen(url) # urlopen() #returns an HTTPResponse object:\n",
    "page\n",
    "html_bytes = page.read()\n",
    "html = html_bytes.decode(\"utf-8\")\n",
    "print(html)\n"
   ]
  },
  {
   "cell_type": "code",
   "execution_count": 35,
   "id": "1b21ee68-5472-48ee-941b-61206e82b5d0",
   "metadata": {
    "scrolled": true
   },
   "outputs": [
    {
     "ename": "JSONDecodeError",
     "evalue": "Expecting value: line 1 column 1 (char 0)",
     "output_type": "error",
     "traceback": [
      "\u001b[1;31m---------------------------------------------------------------------------\u001b[0m",
      "\u001b[1;31mJSONDecodeError\u001b[0m                           Traceback (most recent call last)",
      "Cell \u001b[1;32mIn[35], line 15\u001b[0m\n\u001b[0;32m     13\u001b[0m \u001b[38;5;66;03m#print(html)\u001b[39;00m\n\u001b[0;32m     14\u001b[0m \u001b[38;5;28;01mimport\u001b[39;00m \u001b[38;5;21;01mjson\u001b[39;00m\n\u001b[1;32m---> 15\u001b[0m target\u001b[38;5;241m=\u001b[39mjson\u001b[38;5;241m.\u001b[39mloads(html)\n\u001b[0;32m     16\u001b[0m \u001b[38;5;28mtype\u001b[39m(target)\n",
      "File \u001b[1;32m~\\anaconda3\\Lib\\json\\__init__.py:346\u001b[0m, in \u001b[0;36mloads\u001b[1;34m(s, cls, object_hook, parse_float, parse_int, parse_constant, object_pairs_hook, **kw)\u001b[0m\n\u001b[0;32m    341\u001b[0m     s \u001b[38;5;241m=\u001b[39m s\u001b[38;5;241m.\u001b[39mdecode(detect_encoding(s), \u001b[38;5;124m'\u001b[39m\u001b[38;5;124msurrogatepass\u001b[39m\u001b[38;5;124m'\u001b[39m)\n\u001b[0;32m    343\u001b[0m \u001b[38;5;28;01mif\u001b[39;00m (\u001b[38;5;28mcls\u001b[39m \u001b[38;5;129;01mis\u001b[39;00m \u001b[38;5;28;01mNone\u001b[39;00m \u001b[38;5;129;01mand\u001b[39;00m object_hook \u001b[38;5;129;01mis\u001b[39;00m \u001b[38;5;28;01mNone\u001b[39;00m \u001b[38;5;129;01mand\u001b[39;00m\n\u001b[0;32m    344\u001b[0m         parse_int \u001b[38;5;129;01mis\u001b[39;00m \u001b[38;5;28;01mNone\u001b[39;00m \u001b[38;5;129;01mand\u001b[39;00m parse_float \u001b[38;5;129;01mis\u001b[39;00m \u001b[38;5;28;01mNone\u001b[39;00m \u001b[38;5;129;01mand\u001b[39;00m\n\u001b[0;32m    345\u001b[0m         parse_constant \u001b[38;5;129;01mis\u001b[39;00m \u001b[38;5;28;01mNone\u001b[39;00m \u001b[38;5;129;01mand\u001b[39;00m object_pairs_hook \u001b[38;5;129;01mis\u001b[39;00m \u001b[38;5;28;01mNone\u001b[39;00m \u001b[38;5;129;01mand\u001b[39;00m \u001b[38;5;129;01mnot\u001b[39;00m kw):\n\u001b[1;32m--> 346\u001b[0m     \u001b[38;5;28;01mreturn\u001b[39;00m _default_decoder\u001b[38;5;241m.\u001b[39mdecode(s)\n\u001b[0;32m    347\u001b[0m \u001b[38;5;28;01mif\u001b[39;00m \u001b[38;5;28mcls\u001b[39m \u001b[38;5;129;01mis\u001b[39;00m \u001b[38;5;28;01mNone\u001b[39;00m:\n\u001b[0;32m    348\u001b[0m     \u001b[38;5;28mcls\u001b[39m \u001b[38;5;241m=\u001b[39m JSONDecoder\n",
      "File \u001b[1;32m~\\anaconda3\\Lib\\json\\decoder.py:337\u001b[0m, in \u001b[0;36mJSONDecoder.decode\u001b[1;34m(self, s, _w)\u001b[0m\n\u001b[0;32m    332\u001b[0m \u001b[38;5;28;01mdef\u001b[39;00m \u001b[38;5;21mdecode\u001b[39m(\u001b[38;5;28mself\u001b[39m, s, _w\u001b[38;5;241m=\u001b[39mWHITESPACE\u001b[38;5;241m.\u001b[39mmatch):\n\u001b[0;32m    333\u001b[0m \u001b[38;5;250m    \u001b[39m\u001b[38;5;124;03m\"\"\"Return the Python representation of ``s`` (a ``str`` instance\u001b[39;00m\n\u001b[0;32m    334\u001b[0m \u001b[38;5;124;03m    containing a JSON document).\u001b[39;00m\n\u001b[0;32m    335\u001b[0m \n\u001b[0;32m    336\u001b[0m \u001b[38;5;124;03m    \"\"\"\u001b[39;00m\n\u001b[1;32m--> 337\u001b[0m     obj, end \u001b[38;5;241m=\u001b[39m \u001b[38;5;28mself\u001b[39m\u001b[38;5;241m.\u001b[39mraw_decode(s, idx\u001b[38;5;241m=\u001b[39m_w(s, \u001b[38;5;241m0\u001b[39m)\u001b[38;5;241m.\u001b[39mend())\n\u001b[0;32m    338\u001b[0m     end \u001b[38;5;241m=\u001b[39m _w(s, end)\u001b[38;5;241m.\u001b[39mend()\n\u001b[0;32m    339\u001b[0m     \u001b[38;5;28;01mif\u001b[39;00m end \u001b[38;5;241m!=\u001b[39m \u001b[38;5;28mlen\u001b[39m(s):\n",
      "File \u001b[1;32m~\\anaconda3\\Lib\\json\\decoder.py:355\u001b[0m, in \u001b[0;36mJSONDecoder.raw_decode\u001b[1;34m(self, s, idx)\u001b[0m\n\u001b[0;32m    353\u001b[0m     obj, end \u001b[38;5;241m=\u001b[39m \u001b[38;5;28mself\u001b[39m\u001b[38;5;241m.\u001b[39mscan_once(s, idx)\n\u001b[0;32m    354\u001b[0m \u001b[38;5;28;01mexcept\u001b[39;00m \u001b[38;5;167;01mStopIteration\u001b[39;00m \u001b[38;5;28;01mas\u001b[39;00m err:\n\u001b[1;32m--> 355\u001b[0m     \u001b[38;5;28;01mraise\u001b[39;00m JSONDecodeError(\u001b[38;5;124m\"\u001b[39m\u001b[38;5;124mExpecting value\u001b[39m\u001b[38;5;124m\"\u001b[39m, s, err\u001b[38;5;241m.\u001b[39mvalue) \u001b[38;5;28;01mfrom\u001b[39;00m \u001b[38;5;28;01mNone\u001b[39;00m\n\u001b[0;32m    356\u001b[0m \u001b[38;5;28;01mreturn\u001b[39;00m obj, end\n",
      "\u001b[1;31mJSONDecodeError\u001b[0m: Expecting value: line 1 column 1 (char 0)"
     ]
    }
   ],
   "source": [
    "# %load C:/Users/zhen-/Documents/Python_Scripts/Fish_Spider_code/fishc_spider2.py\n",
    "# https://realpython.com/python-web-scraping-practical-introduction/\n",
    "from urllib.request import urlopen\n",
    "\n",
    "#url = \"http://olympus.realpython.org/profiles/aphrodite\"\n",
    "#url = \"http://placekitten.com/g/500/600\"\n",
    "#url = \"https://www.cnbeta.com.tw/\"\n",
    "url = \"https://google.com/\"\n",
    "page = urlopen(url) # urlopen() #returns an HTTPResponse object:\n",
    "#page\n",
    "html_bytes = page.read()\n",
    "html = html_bytes.decode(\"utf-8\")\n",
    "rint(html)\n"
   ]
  },
  {
   "cell_type": "code",
   "execution_count": null,
   "id": "ed99ff67-a2ab-47b9-8b2b-55041d52a618",
   "metadata": {},
   "outputs": [],
   "source": [
    "# %load C:/Users/zhen-/Documents/Python_Scripts/Fish_Spider_code/fishc_spider_cat_image.py\n",
    "# https://realpython.com/python-web-scraping-practical-introduction/\n",
    "from urllib.request import urlopen\n",
    "\n",
    "#url = \"http://olympus.realpython.org/profiles/aphrodite\"\n",
    "#url = \"http://olympus.realpython.org/static/aphrodite.gif\"\n",
    "url = \"https://www.cnbeta.com.tw/\"\n",
    "#url = \"http://placekitten.com/g/500/600\"  #url = \"http://placekitten.com/200/300\" #url = \"http://placekitten.com/408/287\"\n",
    "page = urlopen(url) # urlopen() #returns an HTTPResponse object:\n",
    "#page\n",
    "cat_image = page.read()\n",
    "\n",
    "# with open(\"cat_500_600.jpg\", 'wb') as f:\n",
    "#       f.write(cat_image) # C:\\Users\\zhen-\\Documents\\Python Scripts\\Lynnda_Exercise_Files\\12 Classes\\cat_408_287.jpg\n"
   ]
  },
  {
   "cell_type": "code",
   "execution_count": 20,
   "id": "9c1ceed0",
   "metadata": {},
   "outputs": [],
   "source": [
    "# %load C:/Users/zhen-/Documents/Python_Scripts/Fish_Spider_code/fishc_spider_cat_image.py\n",
    "# https://realpython.com/python-web-scraping-practical-introduction/\n",
    "import urllib.request \n",
    "# method (1)\n",
    "# url = \"http://olympus.realpython.org/static/aphrodite.gif\"\n",
    "# page =  urllib.request.urlopen(url) # urlopen() #returns an HTTPResponse object: Hence 2 methods are ok\n",
    "\n",
    "# method (2)\n",
    "req =  urllib.request.Request(\"http://olympus.realpython.org/static/aphrodite.gif\") # urlopen() #returns an HTTPResponse object: Hence 2 methods are ok\n",
    "page  =  urllib.request.urlopen(req) # urlopen() #returns an HTTPResponse object: Hence 2 methods are ok\n",
    "\n",
    "cat_image = page.read()\n",
    "\n",
    "with open(\"cat_502.jpg\", 'wb') as f:\n",
    "       f.write(cat_image) # C:\\Users\\zhen-\\Documents\\Python Scripts\\Lynnda_Exercise_Files\\12 Classes\\cat_408_287.jpg\n"
   ]
  },
  {
   "cell_type": "code",
   "execution_count": 21,
   "id": "659e1ed0-5d78-4900-b47e-bd84b8377fb1",
   "metadata": {},
   "outputs": [
    {
     "data": {
      "text/plain": [
       "'http://olympus.realpython.org/static/aphrodite.gif'"
      ]
     },
     "execution_count": 21,
     "metadata": {},
     "output_type": "execute_result"
    }
   ],
   "source": [
    "page.geturl() # get adress"
   ]
  },
  {
   "cell_type": "code",
   "execution_count": 22,
   "id": "e8f9e76f",
   "metadata": {},
   "outputs": [
    {
     "data": {
      "text/plain": [
       "<http.client.HTTPMessage at 0x21b9337de50>"
      ]
     },
     "execution_count": 22,
     "metadata": {},
     "output_type": "execute_result"
    }
   ],
   "source": [
    "page.info() # get adress"
   ]
  },
  {
   "cell_type": "code",
   "execution_count": 23,
   "id": "08a5e90b",
   "metadata": {
    "collapsed": true,
    "jupyter": {
     "outputs_hidden": true
    }
   },
   "outputs": [
    {
     "name": "stdout",
     "output_type": "stream",
     "text": [
      "Report-To: {\"group\":\"heroku-nel\",\"max_age\":3600,\"endpoints\":[{\"url\":\"https://nel.heroku.com/reports?ts=1735101094&sid=67ff5de4-ad2b-4112-9289-cf96be89efed&s=splI6ExIXQyrEYKhsRWVX1mraJz9XqTCM2f1D8RS6Iw%3D\"}]}\n",
      "Reporting-Endpoints: heroku-nel=https://nel.heroku.com/reports?ts=1735101094&sid=67ff5de4-ad2b-4112-9289-cf96be89efed&s=splI6ExIXQyrEYKhsRWVX1mraJz9XqTCM2f1D8RS6Iw%3D\n",
      "Nel: {\"report_to\":\"heroku-nel\",\"max_age\":3600,\"success_fraction\":0.005,\"failure_fraction\":0.05,\"response_headers\":[\"Via\"]}\n",
      "Connection: close\n",
      "Accept-Ranges: bytes\n",
      "Content-Length: 19979\n",
      "Content-Type: image/gif\n",
      "Date: Wed, 25 Dec 2024 04:31:34 GMT\n",
      "Last-Modified: Wed, 05 Oct 2022 14:19:08 GMT\n",
      "Server: waitress\n",
      "Via: 1.1 vegur\n",
      "\n",
      "\n"
     ]
    }
   ],
   "source": [
    "print(page.info()) # get adress"
   ]
  },
  {
   "cell_type": "code",
   "execution_count": 24,
   "id": "444ee4bc-d7f5-471c-a16c-db10945f631e",
   "metadata": {},
   "outputs": [
    {
     "data": {
      "text/plain": [
       "200"
      ]
     },
     "execution_count": 24,
     "metadata": {},
     "output_type": "execute_result"
    }
   ],
   "source": [
    "page.getcode() # 200ms means , normal time"
   ]
  },
  {
   "cell_type": "code",
   "execution_count": 20,
   "id": "9ef1bb4f",
   "metadata": {},
   "outputs": [],
   "source": [
    "# %load C:/Users/zhen-/Documents/Python_Scripts/Fish_Spider_code/fishc_spider_cat_image.py\n",
    "# https://realpython.com/python-web-scraping-practical-introduction/\n",
    "import urllib.request \n",
    "# method (1)\n",
    "# url = \"http://olympus.realpython.org/static/aphrodite.gif\"\n",
    "# page =  urllib.request.urlopen(url) # urlopen() #returns an HTTPResponse object: Hence 2 methods are ok\n",
    "\n",
    "# method (2)\n",
    "req =  urllib.request.Request(\"http://olympus.realpython.org/static/aphrodite.gif\") # urlopen() #returns an HTTPResponse object: Hence 2 methods are ok\n",
    "page  =  urllib.request.urlopen(req) # urlopen() #returns an HTTPResponse object: Hence 2 methods are ok\n",
    "\n",
    "cat_image = page.read()\n",
    "\n",
    "with open(\"cat_502.jpg\", 'wb') as f:\n",
    "       f.write(cat_image) # C:\\Users\\zhen-\\Documents\\Python Scripts\\Lynnda_Exercise_Files\\12 Classes\\cat_408_287.jpg\n"
   ]
  },
  {
   "cell_type": "code",
   "execution_count": null,
   "id": "5727efc5-1b9c-4363-92a5-a3a21f378d8c",
   "metadata": {},
   "outputs": [],
   "source": [
    "import json\n",
    "target=json.loads(html)\n",
    "type(target)"
   ]
  }
 ],
 "metadata": {
  "kernelspec": {
   "display_name": "Python 3 (ipykernel)",
   "language": "python",
   "name": "python3"
  },
  "language_info": {
   "codemirror_mode": {
    "name": "ipython",
    "version": 3
   },
   "file_extension": ".py",
   "mimetype": "text/x-python",
   "name": "python",
   "nbconvert_exporter": "python",
   "pygments_lexer": "ipython3",
   "version": "3.12.3"
  }
 },
 "nbformat": 4,
 "nbformat_minor": 5
}
